{
 "cells": [
  {
   "cell_type": "markdown",
   "metadata": {},
   "source": [
    "# Modeling for Snow Depth Prediction\n",
    "\n",
    "This notebook is focused on preparing the data for modeling, addressing multicollinearity, and creating training, validation, and testing sets. We will proceed with the following steps:\n",
    "- Loading the Processed Data\n",
    "- Creating Lag Features and Derived Variables\n",
    "- Handling Multicollinearity\n",
    "- Splitting the Data into Training, Validation, and Testing Sets"
   ]
  },
  {
   "cell_type": "markdown",
   "metadata": {},
   "source": [
    "### 1. Loading Libraries and Processed Data"
   ]
  },
  {
   "cell_type": "code",
   "execution_count": 3,
   "metadata": {},
   "outputs": [
    {
     "name": "stdout",
     "output_type": "stream",
     "text": [
      "Added /workspace/SkiSnow to sys.path\n",
      "Current sys.path:\n",
      "/workspace/SkiSnow\n",
      "/home/gitpod/.pyenv/versions/3.12.6/lib/python312.zip\n",
      "/home/gitpod/.pyenv/versions/3.12.6/lib/python3.12\n",
      "/home/gitpod/.pyenv/versions/3.12.6/lib/python3.12/lib-dynload\n",
      "\n",
      "/workspace/SkiSnow/venv/lib/python3.12/site-packages\n"
     ]
    }
   ],
   "source": [
    "import pandas as pd\n",
    "import numpy as np\n",
    "import os\n",
    "import sys\n",
    "import logging\n",
    "\n",
    "# Determine the project root directory (assuming the notebook is in the 'notebooks' folder)\n",
    "project_root = os.path.abspath(os.path.join(os.getcwd(), '..'))\n",
    "\n",
    "# Add the project root to sys.path if it's not already there\n",
    "if project_root not in sys.path:\n",
    "    sys.path.insert(0, project_root)\n",
    "    print(f\"Added {project_root} to sys.path\")\n",
    "\n",
    "# Verify the update\n",
    "print(\"Current sys.path:\")\n",
    "for path in sys.path:\n",
    "    print(path)"
   ]
  },
  {
   "cell_type": "markdown",
   "metadata": {},
   "source": [
    "# Import modeling modules"
   ]
  },
  {
   "cell_type": "code",
   "execution_count": 4,
   "metadata": {},
   "outputs": [],
   "source": [
    "from src.models.model_training import train_random_forest, evaluate_model\n",
    "from src.models.model_evaluation import plot_actual_vs_predicted, plot_feature_importances\n",
    "from src.models.utils import save_model, save_split_datasets"
   ]
  },
  {
   "cell_type": "markdown",
   "metadata": {},
   "source": [
    "# Configure logging"
   ]
  },
  {
   "cell_type": "code",
   "execution_count": 5,
   "metadata": {},
   "outputs": [],
   "source": [
    "logging.basicConfig(level=logging.INFO, format='%(asctime)s - %(levelname)s - %(message)s')"
   ]
  },
  {
   "cell_type": "markdown",
   "metadata": {},
   "source": [
    "### 2. Load Processed Data"
   ]
  },
  {
   "cell_type": "code",
   "execution_count": 6,
   "metadata": {},
   "outputs": [
    {
     "name": "stderr",
     "output_type": "stream",
     "text": [
      "2024-10-28 14:37:51,306 - INFO - Loaded combined data with shape (75592, 12)\n"
     ]
    }
   ],
   "source": [
    "# Adjust the path based on your current working directory\n",
    "data_path = os.path.join('..', 'data', 'processed', 'processed_data_for_modeling.csv')\n",
    "\n",
    "# Load the combined processed data\n",
    "model_data = pd.read_csv(data_path)\n",
    "\n",
    "# Ensure 'date' column is in datetime format\n",
    "model_data['date'] = pd.to_datetime(model_data['date'])\n",
    "\n",
    "# Display the shape to confirm loading\n",
    "logging.info(f\"Loaded combined data with shape {model_data.shape}\")"
   ]
  },
  {
   "cell_type": "markdown",
   "metadata": {},
   "source": [
    "### 3. Encoding Categorical Variables"
   ]
  },
  {
   "cell_type": "code",
   "execution_count": 7,
   "metadata": {},
   "outputs": [
    {
     "name": "stderr",
     "output_type": "stream",
     "text": [
      "2024-10-28 14:38:02,206 - INFO - Columns after encoding: ['date', 'temperature_min', 'temperature_max', 'precipitation_sum', 'snow_depth', 'season_id', 'is_operating_season', 'snow_depth_lag1', 'snow_depth_lag7', 'temperature_avg', 'temperature_avg_squared', 'resort_kitzbuhel', 'resort_kranjska_gora', 'resort_krvavec', 'resort_mariborsko_pohorje', 'resort_sestriere', 'resort_solden', 'resort_st_anton', 'resort_st_moritz', 'resort_val_gardena']\n"
     ]
    }
   ],
   "source": [
    "# One-Hot Encode the 'resort' feature\n",
    "model_data = pd.get_dummies(model_data, columns=['resort'], drop_first=True)\n",
    "\n",
    "# Display the columns to confirm encoding\n",
    "logging.info(f\"Columns after encoding: {model_data.columns.tolist()}\")"
   ]
  },
  {
   "cell_type": "markdown",
   "metadata": {},
   "source": [
    "### 4. Preparing Features and Target Variable"
   ]
  },
  {
   "cell_type": "code",
   "execution_count": 8,
   "metadata": {},
   "outputs": [
    {
     "name": "stderr",
     "output_type": "stream",
     "text": [
      "2024-10-28 14:38:08,007 - INFO - Data shape after filtering for operating season: (36461, 20)\n",
      "2024-10-28 14:38:08,011 - INFO - Initial shape of X (including 'snow_depth'): (36461, 19)\n",
      "2024-10-28 14:38:08,012 - INFO - Initial shape of y: (36461,)\n"
     ]
    }
   ],
   "source": [
    "# Filter data for operating season\n",
    "data_operating = model_data[model_data['is_operating_season'] == True].reset_index(drop=True)\n",
    "logging.info(f\"Data shape after filtering for operating season: {data_operating.shape}\")\n",
    "\n",
    "# Define the target variable\n",
    "y = data_operating['snow_depth']\n",
    "\n",
    "# Exclude 'date' and 'snow_depth' from features\n",
    "feature_columns = [col for col in data_operating.columns if col != 'date']\n",
    "\n",
    "# Create the features DataFrame\n",
    "X = data_operating[feature_columns].copy()\n",
    "\n",
    "logging.info(f\"Initial shape of X (including 'snow_depth'): {X.shape}\")\n",
    "logging.info(f\"Initial shape of y: {y.shape}\")"
   ]
  },
  {
   "cell_type": "markdown",
   "metadata": {},
   "source": [
    "### 5. Check for Non-Numeric Columns & Handle \"season_id\""
   ]
  },
  {
   "cell_type": "code",
   "execution_count": 9,
   "metadata": {},
   "outputs": [
    {
     "name": "stderr",
     "output_type": "stream",
     "text": [
      "2024-10-28 14:38:20,029 - INFO - Non-numeric columns before processing: ['season_id', 'is_operating_season', 'resort_kitzbuhel', 'resort_kranjska_gora', 'resort_krvavec', 'resort_mariborsko_pohorje', 'resort_sestriere', 'resort_solden', 'resort_st_anton', 'resort_st_moritz', 'resort_val_gardena']\n",
      "2024-10-28 14:38:20,040 - INFO - One-Hot Encoded 'season_id' and updated X.\n",
      "2024-10-28 14:38:20,079 - INFO - Converted boolean columns to integers: ['is_operating_season', 'resort_kitzbuhel', 'resort_kranjska_gora', 'resort_krvavec', 'resort_mariborsko_pohorje', 'resort_sestriere', 'resort_solden', 'resort_st_anton', 'resort_st_moritz', 'resort_val_gardena', 'season_1991-1992', 'season_1992-1993', 'season_1993-1994', 'season_1994-1995', 'season_1995-1996', 'season_1996-1997', 'season_1997-1998', 'season_1998-1999', 'season_1999-2000', 'season_2000-2001', 'season_2001-2002', 'season_2002-2003', 'season_2003-2004', 'season_2004-2005', 'season_2005-2006', 'season_2006-2007', 'season_2007-2008', 'season_2008-2009', 'season_2009-2010', 'season_2010-2011', 'season_2011-2012', 'season_2012-2013', 'season_2013-2014', 'season_2014-2015', 'season_2015-2016', 'season_2016-2017', 'season_2017-2018', 'season_2018-2019', 'season_2019-2020', 'season_2020-2021', 'season_2021-2022', 'season_2022-2023', 'season_2023-2024']\n",
      "2024-10-28 14:38:20,081 - INFO - Non-numeric columns after processing: []\n",
      "2024-10-28 14:38:20,082 - INFO - Data types after processing:\n",
      "2024-10-28 14:38:20,083 - INFO - temperature_min              float64\n",
      "temperature_max              float64\n",
      "precipitation_sum            float64\n",
      "snow_depth                   float64\n",
      "is_operating_season            int64\n",
      "snow_depth_lag1              float64\n",
      "snow_depth_lag7              float64\n",
      "temperature_avg              float64\n",
      "temperature_avg_squared      float64\n",
      "resort_kitzbuhel               int64\n",
      "resort_kranjska_gora           int64\n",
      "resort_krvavec                 int64\n",
      "resort_mariborsko_pohorje      int64\n",
      "resort_sestriere               int64\n",
      "resort_solden                  int64\n",
      "resort_st_anton                int64\n",
      "resort_st_moritz               int64\n",
      "resort_val_gardena             int64\n",
      "season_1991-1992               int64\n",
      "season_1992-1993               int64\n",
      "season_1993-1994               int64\n",
      "season_1994-1995               int64\n",
      "season_1995-1996               int64\n",
      "season_1996-1997               int64\n",
      "season_1997-1998               int64\n",
      "season_1998-1999               int64\n",
      "season_1999-2000               int64\n",
      "season_2000-2001               int64\n",
      "season_2001-2002               int64\n",
      "season_2002-2003               int64\n",
      "season_2003-2004               int64\n",
      "season_2004-2005               int64\n",
      "season_2005-2006               int64\n",
      "season_2006-2007               int64\n",
      "season_2007-2008               int64\n",
      "season_2008-2009               int64\n",
      "season_2009-2010               int64\n",
      "season_2010-2011               int64\n",
      "season_2011-2012               int64\n",
      "season_2012-2013               int64\n",
      "season_2013-2014               int64\n",
      "season_2014-2015               int64\n",
      "season_2015-2016               int64\n",
      "season_2016-2017               int64\n",
      "season_2017-2018               int64\n",
      "season_2018-2019               int64\n",
      "season_2019-2020               int64\n",
      "season_2020-2021               int64\n",
      "season_2021-2022               int64\n",
      "season_2022-2023               int64\n",
      "season_2023-2024               int64\n",
      "dtype: object\n",
      "2024-10-28 14:38:20,086 - INFO - All features are now numeric and ready for Polynomial Features.\n"
     ]
    }
   ],
   "source": [
    "# Check for non-numeric columns\n",
    "non_numeric_cols = X.select_dtypes(include=['object', 'bool']).columns.tolist()\n",
    "logging.info(f\"Non-numeric columns before processing: {non_numeric_cols}\")\n",
    "\n",
    "# Handle 'season_id' column\n",
    "# One-Hot Encode 'season_id' if it's in the features\n",
    "if 'season_id' in X.columns:\n",
    "    # One-Hot Encode 'season_id'\n",
    "    season_dummies = pd.get_dummies(X['season_id'], prefix='season', drop_first=True)\n",
    "    # Drop 'season_id' and add the encoded variables\n",
    "    X = pd.concat([X.drop(columns=['season_id']), season_dummies], axis=1)\n",
    "    logging.info(\"One-Hot Encoded 'season_id' and updated X.\")\n",
    "else:\n",
    "    logging.warning(\"'season_id' column not found in features.\")\n",
    "\n",
    "# Convert boolean columns to integers\n",
    "bool_columns = X.select_dtypes(include=['bool']).columns.tolist()\n",
    "if bool_columns:\n",
    "    X[bool_columns] = X[bool_columns].astype(int)\n",
    "    logging.info(f\"Converted boolean columns to integers: {bool_columns}\")\n",
    "\n",
    "# Verify all columns are now numeric\n",
    "non_numeric_cols = X.select_dtypes(include=['object']).columns.tolist()\n",
    "logging.info(f\"Non-numeric columns after processing: {non_numeric_cols}\")\n",
    "logging.info(\"Data types after processing:\")\n",
    "logging.info(X.dtypes)\n",
    "\n",
    "if not non_numeric_cols:\n",
    "    logging.info(\"All features are now numeric and ready for Polynomial Features.\")\n",
    "else:\n",
    "    logging.error(\"There are still non-numeric features that need to be encoded.\")"
   ]
  },
  {
   "cell_type": "markdown",
   "metadata": {},
   "source": [
    "### 6. Lag Features\n",
    "\n",
    "Incorporate lagged values of snow depth and other relevant features to capture temporal dependencies."
   ]
  },
  {
   "cell_type": "code",
   "execution_count": 10,
   "metadata": {},
   "outputs": [
    {
     "name": "stderr",
     "output_type": "stream",
     "text": [
      "2024-10-28 14:38:29,347 - INFO - Created lag feature 'snow_depth_lag1'.\n",
      "2024-10-28 14:38:29,349 - INFO - Created lag feature 'snow_depth_lag7'.\n",
      "2024-10-28 14:38:29,351 - INFO - Created lag feature 'snow_depth_lag14'.\n",
      "2024-10-28 14:38:29,353 - INFO - Created lag feature 'snow_depth_lag21'.\n",
      "2024-10-28 14:38:29,354 - INFO - Created lag feature 'temperature_avg_lag1'.\n",
      "2024-10-28 14:38:29,355 - INFO - Created lag feature 'temperature_avg_lag7'.\n",
      "2024-10-28 14:38:29,356 - INFO - Created lag feature 'temperature_avg_lag14'.\n",
      "2024-10-28 14:38:29,357 - INFO - Created lag feature 'temperature_avg_lag21'.\n",
      "2024-10-28 14:38:29,358 - INFO - Created lag feature 'precipitation_sum_lag1'.\n",
      "2024-10-28 14:38:29,359 - INFO - Created lag feature 'precipitation_sum_lag7'.\n",
      "2024-10-28 14:38:29,361 - INFO - Created lag feature 'precipitation_sum_lag14'.\n",
      "2024-10-28 14:38:29,362 - INFO - Created lag feature 'precipitation_sum_lag21'.\n",
      "2024-10-28 14:38:29,466 - INFO - Shape of X after adding lag features: (36440, 61)\n",
      "2024-10-28 14:38:29,468 - INFO - Shape of y after adding lag features: (36440,)\n"
     ]
    }
   ],
   "source": [
    "# Define lag periods\n",
    "lags = [1, 7, 14, 21]  # You can adjust these based on domain knowledge\n",
    "\n",
    "# Features to create lag features for\n",
    "lag_features = ['snow_depth', 'temperature_avg', 'precipitation_sum']\n",
    "\n",
    "for feature in lag_features:\n",
    "    for lag in lags:\n",
    "        lag_col = f\"{feature}_lag{lag}\"\n",
    "        if feature in X.columns:\n",
    "            X[lag_col] = X[feature].shift(lag)\n",
    "            logging.info(f\"Created lag feature '{lag_col}'.\")\n",
    "        else:\n",
    "            logging.warning(f\"Feature '{feature}' not found in X. Skipping lag creation for this feature.\")\n",
    "\n",
    "# Drop rows with NaN values resulting from lagging\n",
    "# Ensure that any rows dropped are reflected in both X and y\n",
    "initial_length = len(X)\n",
    "X = X.dropna().reset_index(drop=True)\n",
    "y = y.iloc[X.index].reset_index(drop=True)\n",
    "\n",
    "logging.info(f\"Shape of X after adding lag features: {X.shape}\")\n",
    "logging.info(f\"Shape of y after adding lag features: {y.shape}\")"
   ]
  },
  {
   "cell_type": "markdown",
   "metadata": {},
   "source": [
    "### 7. Handling Multicollinearity\n",
    "\n",
    "Before splitting the data, it's important to check for multicollinearity among features.\n",
    "\n",
    "Calculating the Variance Inflation Factor (VIF) for each feature is important."
   ]
  },
  {
   "cell_type": "code",
   "execution_count": 11,
   "metadata": {},
   "outputs": [
    {
     "name": "stderr",
     "output_type": "stream",
     "text": [
      "/workspace/SkiSnow/venv/lib/python3.12/site-packages/statsmodels/stats/outliers_influence.py:197: RuntimeWarning: divide by zero encountered in scalar divide\n",
      "  vif = 1. / (1. - r_squared_i)\n",
      "2024-10-28 14:39:25,296 - INFO - Initial Variance Inflation Factors:\n",
      "2024-10-28 14:39:25,298 - INFO -                       feature        VIF\n",
      "0             temperature_min        inf\n",
      "1             temperature_max        inf\n",
      "6             temperature_avg        inf\n",
      "3         is_operating_season  89.762142\n",
      "52       temperature_avg_lag1   6.315753\n",
      "13              resort_solden   6.090312\n",
      "8            resort_kitzbuhel   5.692266\n",
      "14            resort_st_anton   5.062711\n",
      "10             resort_krvavec   4.782867\n",
      "9        resort_kranjska_gora   4.745074\n",
      "11  resort_mariborsko_pohorje   4.697186\n",
      "5             snow_depth_lag7   4.509378\n",
      "50           snow_depth_lag14   4.164787\n",
      "12           resort_sestriere   3.849643\n",
      "4             snow_depth_lag1   3.313765\n",
      "15           resort_st_moritz   3.253613\n",
      "51           snow_depth_lag21   2.841067\n",
      "48           season_2022-2023   2.752798\n",
      "35           season_2009-2010   2.707999\n",
      "37           season_2011-2012   2.674421\n",
      "36           season_2010-2011   2.659817\n",
      "39           season_2013-2014   2.651389\n",
      "40           season_2014-2015   2.620486\n",
      "38           season_2012-2013   2.600318\n",
      "33           season_2007-2008   2.578442\n",
      "34           season_2008-2009   2.554350\n",
      "45           season_2019-2020   2.404095\n",
      "44           season_2018-2019   2.402161\n",
      "41           season_2015-2016   2.398302\n",
      "43           season_2017-2018   2.393397\n",
      "42           season_2016-2017   2.386129\n",
      "47           season_2021-2022   2.376481\n",
      "46           season_2020-2021   2.364370\n",
      "28           season_2002-2003   2.363591\n",
      "32           season_2006-2007   2.348567\n",
      "53       temperature_avg_lag7   2.326705\n",
      "54      temperature_avg_lag14   2.249904\n",
      "17           season_1991-1992   2.232958\n",
      "29           season_2003-2004   2.161217\n",
      "26           season_2000-2001   2.143712\n",
      "25           season_1999-2000   2.138587\n",
      "22           season_1996-1997   2.135405\n",
      "27           season_2001-2002   2.116633\n",
      "21           season_1995-1996   2.108838\n",
      "23           season_1997-1998   2.106002\n",
      "24           season_1998-1999   2.095645\n",
      "18           season_1992-1993   2.021188\n",
      "16         resort_val_gardena   1.973177\n",
      "30           season_2004-2005   1.971912\n",
      "55      temperature_avg_lag21   1.965919\n",
      "20           season_1994-1995   1.949958\n",
      "19           season_1993-1994   1.948566\n",
      "31           season_2005-2006   1.864557\n",
      "56     precipitation_sum_lag1   1.462160\n",
      "2           precipitation_sum   1.445735\n",
      "49           season_2023-2024   1.439390\n",
      "7     temperature_avg_squared   1.368943\n",
      "57     precipitation_sum_lag7   1.217103\n",
      "58    precipitation_sum_lag14   1.198245\n",
      "59    precipitation_sum_lag21   1.156299\n",
      "2024-10-28 14:39:25,305 - INFO - Features with VIF > 10: ['temperature_min', 'temperature_max', 'is_operating_season', 'temperature_avg']\n",
      "2024-10-28 14:39:25,389 - INFO - Dropped feature 'temperature_min' due to high VIF.\n",
      "2024-10-28 14:40:07,402 - INFO -                       feature        VIF\n",
      "2         is_operating_season  89.762142\n",
      "5             temperature_avg  20.715458\n",
      "0             temperature_max  14.540620\n",
      "51       temperature_avg_lag1   6.315753\n",
      "12              resort_solden   6.090312\n",
      "7            resort_kitzbuhel   5.692266\n",
      "13            resort_st_anton   5.062711\n",
      "9              resort_krvavec   4.782867\n",
      "8        resort_kranjska_gora   4.745074\n",
      "10  resort_mariborsko_pohorje   4.697186\n",
      "4             snow_depth_lag7   4.509378\n",
      "49           snow_depth_lag14   4.164787\n",
      "11           resort_sestriere   3.849643\n",
      "3             snow_depth_lag1   3.313765\n",
      "14           resort_st_moritz   3.253613\n",
      "50           snow_depth_lag21   2.841067\n",
      "47           season_2022-2023   2.752798\n",
      "34           season_2009-2010   2.707999\n",
      "36           season_2011-2012   2.674421\n",
      "35           season_2010-2011   2.659817\n",
      "38           season_2013-2014   2.651389\n",
      "39           season_2014-2015   2.620486\n",
      "37           season_2012-2013   2.600318\n",
      "32           season_2007-2008   2.578442\n",
      "33           season_2008-2009   2.554350\n",
      "44           season_2019-2020   2.404095\n",
      "43           season_2018-2019   2.402161\n",
      "40           season_2015-2016   2.398302\n",
      "42           season_2017-2018   2.393397\n",
      "41           season_2016-2017   2.386129\n",
      "46           season_2021-2022   2.376481\n",
      "45           season_2020-2021   2.364370\n",
      "27           season_2002-2003   2.363591\n",
      "31           season_2006-2007   2.348567\n",
      "52       temperature_avg_lag7   2.326705\n",
      "53      temperature_avg_lag14   2.249904\n",
      "16           season_1991-1992   2.232958\n",
      "28           season_2003-2004   2.161217\n",
      "25           season_2000-2001   2.143712\n",
      "24           season_1999-2000   2.138587\n",
      "21           season_1996-1997   2.135405\n",
      "26           season_2001-2002   2.116633\n",
      "20           season_1995-1996   2.108838\n",
      "22           season_1997-1998   2.106002\n",
      "23           season_1998-1999   2.095645\n",
      "17           season_1992-1993   2.021188\n",
      "15         resort_val_gardena   1.973177\n",
      "29           season_2004-2005   1.971912\n",
      "54      temperature_avg_lag21   1.965919\n",
      "19           season_1994-1995   1.949958\n",
      "18           season_1993-1994   1.948566\n",
      "30           season_2005-2006   1.864557\n",
      "55     precipitation_sum_lag1   1.462160\n",
      "1           precipitation_sum   1.445735\n",
      "48           season_2023-2024   1.439390\n",
      "6     temperature_avg_squared   1.368943\n",
      "56     precipitation_sum_lag7   1.217103\n",
      "57    precipitation_sum_lag14   1.198245\n",
      "58    precipitation_sum_lag21   1.156299\n",
      "2024-10-28 14:40:07,486 - INFO - Dropped feature 'temperature_max' due to high VIF.\n",
      "2024-10-28 14:40:42,395 - INFO -                       feature        VIF\n",
      "1         is_operating_season  83.857501\n",
      "50       temperature_avg_lag1   6.229411\n",
      "11              resort_solden   6.079985\n",
      "4             temperature_avg   6.014917\n",
      "6            resort_kitzbuhel   5.685262\n",
      "12            resort_st_anton   5.032400\n",
      "8              resort_krvavec   4.749853\n",
      "9   resort_mariborsko_pohorje   4.685985\n",
      "7        resort_kranjska_gora   4.654129\n",
      "3             snow_depth_lag7   4.509314\n",
      "48           snow_depth_lag14   4.163092\n",
      "10           resort_sestriere   3.717809\n",
      "2             snow_depth_lag1   3.313723\n",
      "13           resort_st_moritz   3.249999\n",
      "49           snow_depth_lag21   2.840108\n",
      "46           season_2022-2023   2.752421\n",
      "33           season_2009-2010   2.704248\n",
      "35           season_2011-2012   2.673161\n",
      "34           season_2010-2011   2.659029\n",
      "37           season_2013-2014   2.648505\n",
      "38           season_2014-2015   2.618902\n",
      "36           season_2012-2013   2.594987\n",
      "31           season_2007-2008   2.578337\n",
      "32           season_2008-2009   2.551505\n",
      "43           season_2019-2020   2.403977\n",
      "42           season_2018-2019   2.402012\n",
      "39           season_2015-2016   2.397112\n",
      "41           season_2017-2018   2.389915\n",
      "40           season_2016-2017   2.386113\n",
      "45           season_2021-2022   2.375834\n",
      "44           season_2020-2021   2.364305\n",
      "26           season_2002-2003   2.363321\n",
      "30           season_2006-2007   2.348309\n",
      "51       temperature_avg_lag7   2.326637\n",
      "52      temperature_avg_lag14   2.249225\n",
      "15           season_1991-1992   2.232873\n",
      "27           season_2003-2004   2.160838\n",
      "24           season_2000-2001   2.138705\n",
      "23           season_1999-2000   2.136655\n",
      "20           season_1996-1997   2.133880\n",
      "25           season_2001-2002   2.116164\n",
      "19           season_1995-1996   2.105797\n",
      "21           season_1997-1998   2.105268\n",
      "22           season_1998-1999   2.092691\n",
      "16           season_1992-1993   2.019969\n",
      "14         resort_val_gardena   1.973120\n",
      "28           season_2004-2005   1.971469\n",
      "53      temperature_avg_lag21   1.963417\n",
      "18           season_1994-1995   1.947432\n",
      "17           season_1993-1994   1.945754\n",
      "29           season_2005-2006   1.863540\n",
      "54     precipitation_sum_lag1   1.443433\n",
      "47           season_2023-2024   1.438322\n",
      "0           precipitation_sum   1.421333\n",
      "5     temperature_avg_squared   1.257166\n",
      "55     precipitation_sum_lag7   1.214265\n",
      "56    precipitation_sum_lag14   1.197872\n",
      "57    precipitation_sum_lag21   1.155020\n",
      "2024-10-28 14:40:42,403 - INFO - Dropped feature 'is_operating_season' due to high VIF.\n",
      "2024-10-28 14:41:43,596 - INFO -                       feature       VIF\n",
      "49       temperature_avg_lag1  6.901797\n",
      "3             temperature_avg  6.664235\n",
      "2             snow_depth_lag7  6.406631\n",
      "47           snow_depth_lag14  5.914775\n",
      "1             snow_depth_lag1  4.704147\n",
      "10              resort_solden  4.429810\n",
      "5            resort_kitzbuhel  4.229318\n",
      "48           snow_depth_lag21  4.027959\n",
      "11            resort_st_anton  3.639530\n",
      "6        resort_kranjska_gora  3.609423\n",
      "7              resort_krvavec  3.573352\n",
      "8   resort_mariborsko_pohorje  3.283188\n",
      "9            resort_sestriere  2.782352\n",
      "50       temperature_avg_lag7  2.578002\n",
      "51      temperature_avg_lag14  2.492407\n",
      "12           resort_st_moritz  2.400281\n",
      "52      temperature_avg_lag21  2.176028\n",
      "4     temperature_avg_squared  1.917123\n",
      "31           season_2008-2009  1.769929\n",
      "36           season_2013-2014  1.761072\n",
      "32           season_2009-2010  1.744868\n",
      "34           season_2011-2012  1.744043\n",
      "40           season_2017-2018  1.720090\n",
      "41           season_2018-2019  1.720087\n",
      "35           season_2012-2013  1.712851\n",
      "37           season_2014-2015  1.712701\n",
      "45           season_2022-2023  1.706773\n",
      "30           season_2007-2008  1.703918\n",
      "33           season_2010-2011  1.692030\n",
      "43           season_2020-2021  1.681938\n",
      "42           season_2019-2020  1.681758\n",
      "39           season_2016-2017  1.678110\n",
      "38           season_2015-2016  1.670421\n",
      "44           season_2021-2022  1.667584\n",
      "14           season_1991-1992  1.660517\n",
      "25           season_2002-2003  1.627131\n",
      "13         resort_val_gardena  1.617284\n",
      "53     precipitation_sum_lag1  1.608699\n",
      "29           season_2006-2007  1.593332\n",
      "21           season_1998-1999  1.586283\n",
      "22           season_1999-2000  1.585762\n",
      "0           precipitation_sum  1.583153\n",
      "26           season_2003-2004  1.582396\n",
      "23           season_2000-2001  1.572417\n",
      "19           season_1996-1997  1.558285\n",
      "18           season_1995-1996  1.553930\n",
      "24           season_2001-2002  1.549395\n",
      "20           season_1997-1998  1.537372\n",
      "15           season_1992-1993  1.503696\n",
      "17           season_1994-1995  1.485841\n",
      "16           season_1993-1994  1.476358\n",
      "27           season_2004-2005  1.464827\n",
      "28           season_2005-2006  1.455627\n",
      "54     precipitation_sum_lag7  1.354330\n",
      "55    precipitation_sum_lag14  1.337132\n",
      "56    precipitation_sum_lag21  1.288306\n",
      "46           season_2023-2024  1.181226\n",
      "2024-10-28 14:41:43,603 - INFO - Dropped feature 'temperature_avg' due to high VIF.\n",
      "2024-10-28 14:42:36,513 - INFO -                       feature       VIF\n",
      "2             snow_depth_lag7  6.405382\n",
      "46           snow_depth_lag14  5.914604\n",
      "1             snow_depth_lag1  4.696726\n",
      "9               resort_solden  4.424827\n",
      "4            resort_kitzbuhel  4.228265\n",
      "47           snow_depth_lag21  4.024823\n",
      "10            resort_st_anton  3.639364\n",
      "5        resort_kranjska_gora  3.589961\n",
      "6              resort_krvavec  3.569185\n",
      "7   resort_mariborsko_pohorje  3.281184\n",
      "8            resort_sestriere  2.778616\n",
      "49       temperature_avg_lag7  2.573102\n",
      "50      temperature_avg_lag14  2.491905\n",
      "11           resort_st_moritz  2.400254\n",
      "48       temperature_avg_lag1  2.380690\n",
      "51      temperature_avg_lag21  2.175875\n",
      "3     temperature_avg_squared  1.889333\n",
      "30           season_2008-2009  1.769820\n",
      "35           season_2013-2014  1.760945\n",
      "31           season_2009-2010  1.744231\n",
      "33           season_2011-2012  1.743809\n",
      "40           season_2018-2019  1.720084\n",
      "39           season_2017-2018  1.720032\n",
      "36           season_2014-2015  1.712701\n",
      "34           season_2012-2013  1.712687\n",
      "44           season_2022-2023  1.706773\n",
      "29           season_2007-2008  1.703863\n",
      "32           season_2010-2011  1.691922\n",
      "42           season_2020-2021  1.681891\n",
      "41           season_2019-2020  1.681695\n",
      "38           season_2016-2017  1.678083\n",
      "37           season_2015-2016  1.670385\n",
      "43           season_2021-2022  1.667584\n",
      "13           season_1991-1992  1.660500\n",
      "24           season_2002-2003  1.626973\n",
      "12         resort_val_gardena  1.617283\n",
      "52     precipitation_sum_lag1  1.602280\n",
      "28           season_2006-2007  1.593072\n",
      "20           season_1998-1999  1.586201\n",
      "21           season_1999-2000  1.585617\n",
      "0           precipitation_sum  1.582502\n",
      "25           season_2003-2004  1.582240\n",
      "22           season_2000-2001  1.572399\n",
      "18           season_1996-1997  1.558232\n",
      "17           season_1995-1996  1.553635\n",
      "23           season_2001-2002  1.549285\n",
      "19           season_1997-1998  1.537367\n",
      "14           season_1992-1993  1.503638\n",
      "16           season_1994-1995  1.485815\n",
      "15           season_1993-1994  1.476357\n",
      "26           season_2004-2005  1.464409\n",
      "27           season_2005-2006  1.455094\n",
      "53     precipitation_sum_lag7  1.354228\n",
      "54    precipitation_sum_lag14  1.336966\n",
      "55    precipitation_sum_lag21  1.288166\n",
      "45           season_2023-2024  1.181166\n",
      "2024-10-28 14:44:08,593 - INFO - Final Variance Inflation Factors:\n",
      "2024-10-28 14:44:08,594 - INFO -                       feature       VIF\n",
      "2             snow_depth_lag7  6.405382\n",
      "46           snow_depth_lag14  5.914604\n",
      "1             snow_depth_lag1  4.696726\n",
      "9               resort_solden  4.424827\n",
      "4            resort_kitzbuhel  4.228265\n",
      "47           snow_depth_lag21  4.024823\n",
      "10            resort_st_anton  3.639364\n",
      "5        resort_kranjska_gora  3.589961\n",
      "6              resort_krvavec  3.569185\n",
      "7   resort_mariborsko_pohorje  3.281184\n",
      "8            resort_sestriere  2.778616\n",
      "49       temperature_avg_lag7  2.573102\n",
      "50      temperature_avg_lag14  2.491905\n",
      "11           resort_st_moritz  2.400254\n",
      "48       temperature_avg_lag1  2.380690\n",
      "51      temperature_avg_lag21  2.175875\n",
      "3     temperature_avg_squared  1.889333\n",
      "30           season_2008-2009  1.769820\n",
      "35           season_2013-2014  1.760945\n",
      "31           season_2009-2010  1.744231\n",
      "33           season_2011-2012  1.743809\n",
      "40           season_2018-2019  1.720084\n",
      "39           season_2017-2018  1.720032\n",
      "36           season_2014-2015  1.712701\n",
      "34           season_2012-2013  1.712687\n",
      "44           season_2022-2023  1.706773\n",
      "29           season_2007-2008  1.703863\n",
      "32           season_2010-2011  1.691922\n",
      "42           season_2020-2021  1.681891\n",
      "41           season_2019-2020  1.681695\n",
      "38           season_2016-2017  1.678083\n",
      "37           season_2015-2016  1.670385\n",
      "43           season_2021-2022  1.667584\n",
      "13           season_1991-1992  1.660500\n",
      "24           season_2002-2003  1.626973\n",
      "12         resort_val_gardena  1.617283\n",
      "52     precipitation_sum_lag1  1.602280\n",
      "28           season_2006-2007  1.593072\n",
      "20           season_1998-1999  1.586201\n",
      "21           season_1999-2000  1.585617\n",
      "0           precipitation_sum  1.582502\n",
      "25           season_2003-2004  1.582240\n",
      "22           season_2000-2001  1.572399\n",
      "18           season_1996-1997  1.558232\n",
      "17           season_1995-1996  1.553635\n",
      "23           season_2001-2002  1.549285\n",
      "19           season_1997-1998  1.537367\n",
      "14           season_1992-1993  1.503638\n",
      "16           season_1994-1995  1.485815\n",
      "15           season_1993-1994  1.476357\n",
      "26           season_2004-2005  1.464409\n",
      "27           season_2005-2006  1.455094\n",
      "53     precipitation_sum_lag7  1.354228\n",
      "54    precipitation_sum_lag14  1.336966\n",
      "55    precipitation_sum_lag21  1.288166\n",
      "45           season_2023-2024  1.181166\n"
     ]
    }
   ],
   "source": [
    "from statsmodels.stats.outliers_influence import variance_inflation_factor\n",
    "    \n",
    "def calculate_vif(X):\n",
    "    \"\"\"\n",
    "    Calculate Variance Inflation Factor (VIF) for each feature in the DataFrame.\n",
    "    \n",
    "    Parameters:\n",
    "    - X (pd.DataFrame): Feature matrix.\n",
    "    \n",
    "    Returns:\n",
    "    - pd.DataFrame: DataFrame containing features and their VIF values.\n",
    "    \"\"\"\n",
    "    vif = pd.DataFrame()\n",
    "    vif['feature'] = X.columns\n",
    "    vif['VIF'] = [variance_inflation_factor(X.values, i) for i in range(X.shape[1])]\n",
    "    return vif\n",
    "\n",
    "# Exclude 'snow_depth' from VIF calculation if present\n",
    "features_to_exclude = ['snow_depth']\n",
    "X_vif = X.drop(columns=features_to_exclude, errors='ignore').copy()\n",
    "\n",
    "# Calculate initial VIF\n",
    "vif_data = calculate_vif(X_vif)\n",
    "logging.info(\"Initial Variance Inflation Factors:\")\n",
    "logging.info(vif_data.sort_values('VIF', ascending=False))\n",
    "\n",
    "# Identify features with VIF > 10\n",
    "high_vif = vif_data[vif_data['VIF'] > 10]['feature'].tolist()\n",
    "logging.info(f\"Features with VIF > 10: {high_vif}\")\n",
    "\n",
    "# Iteratively remove features with high VIF\n",
    "for feature in high_vif:\n",
    "    if feature in X.columns:\n",
    "        X = X.drop(columns=[feature])\n",
    "        logging.info(f\"Dropped feature '{feature}' due to high VIF.\")\n",
    "        # Recalculate VIF after dropping the feature\n",
    "        X_vif = X.drop(columns=features_to_exclude, errors='ignore').copy()\n",
    "        vif_data = calculate_vif(X_vif)\n",
    "        logging.info(vif_data.sort_values('VIF', ascending=False))\n",
    "    else:\n",
    "        logging.warning(f\"Feature '{feature}' already removed.\")\n",
    "\n",
    "# Final VIF after removal\n",
    "final_vif = calculate_vif(X_vif)\n",
    "logging.info(\"Final Variance Inflation Factors:\")\n",
    "logging.info(final_vif.sort_values('VIF', ascending=False))"
   ]
  },
  {
   "cell_type": "markdown",
   "metadata": {},
   "source": [
    "### 8. Adding Polynomial Features\n",
    "\n",
    "Now that all non-numeric columns have been handled, we can safely apply Polynomial Features to capture non-linear relationships."
   ]
  },
  {
   "cell_type": "code",
   "execution_count": 12,
   "metadata": {},
   "outputs": [
    {
     "name": "stderr",
     "output_type": "stream",
     "text": [
      "2024-10-28 14:47:06,010 - WARNING - Cannot apply PolynomialFeatures to missing features: ['temperature_avg']\n",
      "2024-10-28 14:47:06,012 - INFO - Proceeding with available features only.\n",
      "2024-10-28 14:47:06,023 - INFO - Shape of X after adding polynomial features to selected features: (36440, 58)\n"
     ]
    }
   ],
   "source": [
    "from sklearn.preprocessing import PolynomialFeatures\n",
    "\n",
    "# Define features to apply PolynomialFeatures\n",
    "selected_features = ['temperature_avg', 'precipitation_sum']\n",
    "\n",
    "# Check which selected features are present in X\n",
    "available_features = [feature for feature in selected_features if feature in X.columns]\n",
    "missing_features = [feature for feature in selected_features if feature not in X.columns]\n",
    "\n",
    "if missing_features:\n",
    "    logging.warning(f\"Cannot apply PolynomialFeatures to missing features: {missing_features}\")\n",
    "    logging.info(\"Proceeding with available features only.\")\n",
    "else:\n",
    "    logging.info(\"All selected features are available for PolynomialFeatures.\")\n",
    "\n",
    "if available_features:\n",
    "    # Initialize PolynomialFeatures with degree 2\n",
    "    poly = PolynomialFeatures(degree=2, include_bias=False)\n",
    "    \n",
    "    # Fit and transform only the available features\n",
    "    X_poly_selected = poly.fit_transform(X[available_features])\n",
    "    \n",
    "    # Get the new feature names for selected features\n",
    "    poly_features_selected = poly.get_feature_names_out(available_features)\n",
    "    \n",
    "    # Create a DataFrame for polynomial features\n",
    "    X_poly_df = pd.DataFrame(X_poly_selected, columns=poly_features_selected)\n",
    "    \n",
    "    # Drop the original selected features from X\n",
    "    X = X.drop(columns=available_features)\n",
    "    \n",
    "    # Concatenate the polynomial features back to X\n",
    "    X = pd.concat([X.reset_index(drop=True), X_poly_df.reset_index(drop=True)], axis=1)\n",
    "    \n",
    "    logging.info(f\"Shape of X after adding polynomial features to selected features: {X.shape}\")\n",
    "else:\n",
    "    logging.warning(\"No features available for PolynomialFeatures. Skipping this step.\")"
   ]
  },
  {
   "cell_type": "markdown",
   "metadata": {},
   "source": [
    "### 9. Splitting the Data\n",
    "\n",
    "Since the data is time-series data, it's important to split it in a way that respects the temporal order and thus avoid data leakage."
   ]
  },
  {
   "cell_type": "markdown",
   "metadata": {},
   "source": [
    "#### 9 (a) Split the data into training, validation, and test sets using time-based splits."
   ]
  },
  {
   "cell_type": "code",
   "execution_count": 13,
   "metadata": {},
   "outputs": [
    {
     "name": "stderr",
     "output_type": "stream",
     "text": [
      "2024-10-28 14:47:13,965 - INFO - Training set size: (25508, 58), y_train size: (25508,)\n",
      "2024-10-28 14:47:13,966 - INFO - Validation set size: (5466, 58), y_val size: (5466,)\n",
      "2024-10-28 14:47:13,967 - INFO - Test set size: (5466, 58), y_test size: (5466,)\n",
      "2024-10-28 14:47:13,968 - INFO - All splits are aligned correctly.\n"
     ]
    }
   ],
   "source": [
    "# Define the sizes for training, validation, and testing sets\n",
    "total_length = len(X)\n",
    "train_size = int(0.7 * len(X))\n",
    "val_size = int(0.15 * len(X))\n",
    "test_size = total_length - train_size - val_size\n",
    "\n",
    "# Split the data\n",
    "X_train = X.iloc[:train_size].reset_index(drop=True)\n",
    "y_train = y.iloc[:train_size].reset_index(drop=True)\n",
    "\n",
    "X_val = X.iloc[train_size:train_size + val_size].reset_index(drop=True)\n",
    "y_val = y.iloc[train_size:train_size + val_size].reset_index(drop=True)\n",
    "\n",
    "X_test = X.iloc[train_size + val_size:].reset_index(drop=True)\n",
    "y_test = y.iloc[train_size + val_size:].reset_index(drop=True)\n",
    "\n",
    "logging.info(f\"Training set size: {X_train.shape}, y_train size: {y_train.shape}\")\n",
    "logging.info(f\"Validation set size: {X_val.shape}, y_val size: {y_val.shape}\")\n",
    "logging.info(f\"Test set size: {X_test.shape}, y_test size: {y_test.shape}\")\n",
    "\n",
    "# Verify alignment\n",
    "assert X_train.shape[0] == y_train.shape[0], \"Mismatch in training set.\"\n",
    "assert X_val.shape[0] == y_val.shape[0], \"Mismatch in validation set.\"\n",
    "assert X_test.shape[0] == y_test.shape[0], \"Mismatch in test set.\"\n",
    "\n",
    "logging.info(\"All splits are aligned correctly.\")"
   ]
  },
  {
   "cell_type": "markdown",
   "metadata": {},
   "source": [
    "### 10. Proceeding with Modeling\n",
    "\n",
    "The data is now prepared.  We can proceed to build and evaluate the models."
   ]
  },
  {
   "cell_type": "markdown",
   "metadata": {},
   "source": [
    "#### 10 (a) Training The Model"
   ]
  },
  {
   "cell_type": "code",
   "execution_count": 14,
   "metadata": {},
   "outputs": [
    {
     "name": "stderr",
     "output_type": "stream",
     "text": [
      "2024-10-28 14:47:27,668 - INFO - Starting RandomizedSearchCV for Random Forest Regressor...\n"
     ]
    },
    {
     "name": "stdout",
     "output_type": "stream",
     "text": [
      "Fitting 3 folds for each of 10 candidates, totalling 30 fits\n"
     ]
    },
    {
     "name": "stderr",
     "output_type": "stream",
     "text": [
      "/workspace/SkiSnow/venv/lib/python3.12/site-packages/numpy/ma/core.py:2846: RuntimeWarning: invalid value encountered in cast\n",
      "  _data = np.array(data, dtype=dtype, copy=copy,\n",
      "2024-10-28 14:49:13,304 - INFO - RandomizedSearchCV completed.\n",
      "2024-10-28 14:49:13,305 - INFO - Best Parameters: {'n_estimators': 200, 'min_samples_split': 5, 'min_samples_leaf': 1, 'max_features': 'sqrt', 'max_depth': 20}\n",
      "2024-10-28 14:49:13,306 - INFO - Best Score: -3581.9584471344992\n",
      "2024-10-28 14:49:13,419 - INFO - \n",
      "Validation Set Evaluation:\n",
      "2024-10-28 14:49:13,421 - INFO - Mean Squared Error: 1075.79\n",
      "2024-10-28 14:49:13,422 - INFO - R-squared: 0.88\n",
      "2024-10-28 14:49:13,543 - INFO - \n",
      "Test Set Evaluation:\n",
      "2024-10-28 14:49:13,544 - INFO - Mean Squared Error: 2971.35\n",
      "2024-10-28 14:49:13,545 - INFO - R-squared: 0.93\n"
     ]
    }
   ],
   "source": [
    "# Define parameter grid\n",
    "param_dist = {\n",
    "    'n_estimators': [100, 200],\n",
    "    'max_depth': [10, 20, None],\n",
    "    'min_samples_split': [2, 5],\n",
    "    'min_samples_leaf': [1, 2],\n",
    "    'max_features': ['sqrt', 'log2']\n",
    "}\n",
    "\n",
    "# Train the Random Forest Regressor\n",
    "best_rf_model, best_params = train_random_forest(\n",
    "    X_train=X_train,\n",
    "    y_train=y_train,\n",
    "    param_dist=param_dist,\n",
    "    n_iter=10,\n",
    "    cv=3,\n",
    "    scoring='neg_mean_squared_error',\n",
    "    random_state=42\n",
    ")\n",
    "\n",
    "# Predict and evaluate on Validation Set\n",
    "val_metrics = evaluate_model(best_rf_model, X_val, y_val, dataset_name=\"Validation\")\n",
    "\n",
    "# Predict on Test Set\n",
    "test_metrics = evaluate_model(best_rf_model, X_test, y_test, dataset_name=\"Test\")"
   ]
  },
  {
   "cell_type": "markdown",
   "metadata": {},
   "source": [
    "### 11. Plotting Evaluation Metrics"
   ]
  },
  {
   "cell_type": "code",
   "execution_count": 15,
   "metadata": {},
   "outputs": [
    {
     "name": "stderr",
     "output_type": "stream",
     "text": [
      "2024-10-28 15:04:35,372 - INFO - Actual vs. Predicted plot saved to ../src/models/plots/actual_vs_predicted_validation.png\n",
      "2024-10-28 15:04:38,660 - INFO - Actual vs. Predicted plot saved to ../src/models/plots/actual_vs_predicted_test.png\n",
      "/workspace/SkiSnow/src/models/model_evaluation.py:58: FutureWarning: \n",
      "\n",
      "Passing `palette` without assigning `hue` is deprecated and will be removed in v0.14.0. Assign the `y` variable to `hue` and set `legend=False` for the same effect.\n",
      "\n",
      "  sns.barplot(x=sorted_importances, y=sorted_features, palette='viridis')\n",
      "2024-10-28 15:04:39,826 - INFO - Feature importances plot saved to ../src/models/plots/feature_importances.png\n"
     ]
    }
   ],
   "source": [
    "# Plot Actual vs Predicted for Validation Set\n",
    "plot_actual_vs_predicted(\n",
    "    y_true=y_val,\n",
    "    y_pred=best_rf_model.predict(X_val),\n",
    "    dataset_name=\"Validation\",\n",
    "    save_dir=os.path.join('..', 'src', 'models', 'plots')\n",
    ")\n",
    "\n",
    "# Plot Actual vs Predicted for Test Set\n",
    "plot_actual_vs_predicted(\n",
    "    y_true=y_test,\n",
    "    y_pred=best_rf_model.predict(X_test),\n",
    "    dataset_name=\"Test\",\n",
    "    save_dir=os.path.join('..', 'src', 'models', 'plots')\n",
    ")\n",
    "\n",
    "# Plot Feature Importances\n",
    "plot_feature_importances(\n",
    "    model=best_rf_model,\n",
    "    feature_names=X_train.columns.tolist(),\n",
    "    save_dir=os.path.join('..', 'src', 'models', 'plots')\n",
    ")"
   ]
  },
  {
   "cell_type": "markdown",
   "metadata": {},
   "source": [
    "### 11. Saving the Model"
   ]
  },
  {
   "cell_type": "code",
   "execution_count": 17,
   "metadata": {},
   "outputs": [
    {
     "name": "stderr",
     "output_type": "stream",
     "text": [
      "2024-10-28 15:06:10,304 - INFO - Model successfully saved to ../src/models/best_rf_model.pkl\n"
     ]
    }
   ],
   "source": [
    "# Define the directory to save the model\n",
    "model_save_dir = os.path.join('..', 'src', 'models')\n",
    "\n",
    "# Define the path to save the model\n",
    "model_save_path = os.path.join(model_save_dir, 'best_rf_model.pkl')\n",
    "\n",
    "# Save the trained model\n",
    "save_model(best_rf_model, model_save_path)"
   ]
  },
  {
   "cell_type": "markdown",
   "metadata": {},
   "source": [
    "### 12. Saving the Split Datasets\n",
    "\n",
    "After training and evaluating the model, we'll save the split datasets (`X_train.csv`, `y_train.csv`, `X_val.csv`, `y_val.csv`, `X_test.csv`, `y_test.csv`) to the `data/processed/modeling_data/` directory. This ensures that these datasets can be easily accessed for future evaluations, residual analysis, and other analyses without the need to regenerate them."
   ]
  },
  {
   "cell_type": "code",
   "execution_count": 18,
   "metadata": {},
   "outputs": [
    {
     "name": "stderr",
     "output_type": "stream",
     "text": [
      "2024-10-28 15:07:16,391 - INFO - Split datasets successfully saved to ../data/processed/modeling_data\n"
     ]
    }
   ],
   "source": [
    "# Define the directory to save the split datasets\n",
    "modeling_data_dir = os.path.join('..', 'data', 'processed', 'modeling_data')\n",
    "\n",
    "# Save the split datasets\n",
    "save_split_datasets(\n",
    "    X_train=X_train,\n",
    "    y_train=y_train,\n",
    "    X_val=X_val,\n",
    "    y_val=y_val,\n",
    "    X_test=X_test,\n",
    "    y_test=y_test,\n",
    "    save_dir=modeling_data_dir\n",
    ")"
   ]
  }
 ],
 "metadata": {
  "kernelspec": {
   "display_name": "venv",
   "language": "python",
   "name": "python3"
  },
  "language_info": {
   "codemirror_mode": {
    "name": "ipython",
    "version": 3
   },
   "file_extension": ".py",
   "mimetype": "text/x-python",
   "name": "python",
   "nbconvert_exporter": "python",
   "pygments_lexer": "ipython3",
   "version": "3.12.6"
  }
 },
 "nbformat": 4,
 "nbformat_minor": 2
}
