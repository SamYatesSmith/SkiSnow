{
 "cells": [
  {
   "cell_type": "markdown",
   "metadata": {},
   "source": [
    "# Data Cleaning and Preparation\n",
    "\n",
    "In this notebook, we will perform data cleaning and preparation for all resorts across the Alps. This includes:\n",
    "\n",
    "- Loading the raw data\n",
    "- Handling missing values\n",
    "- Correcting data types\n",
    "- Normalizing resort names to handle special characters\n",
    "- Filtering data based on resort operating dates\n",
    "- Saving the cleaned data for further analysis"
   ]
  },
  {
   "cell_type": "markdown",
   "metadata": {},
   "source": [
    "### 1. Import Libraries"
   ]
  },
  {
   "cell_type": "code",
   "execution_count": 4,
   "metadata": {},
   "outputs": [],
   "source": [
    "import pandas as pd\n",
    "import os\n",
    "import sys\n",
    "import numpy as np\n",
    "import seaborn as sns\n",
    "import matplotlib.pyplot as plt"
   ]
  },
  {
   "cell_type": "markdown",
   "metadata": {},
   "source": [
    "### 2. Update pathing and Import custom modules"
   ]
  },
  {
   "cell_type": "code",
   "execution_count": 5,
   "metadata": {},
   "outputs": [
    {
     "name": "stdout",
     "output_type": "stream",
     "text": [
      "Updated sys.path:\n",
      "/workspace/SkiSnow\n",
      "/home/gitpod/.pyenv/versions/3.12.6/lib/python312.zip\n",
      "/home/gitpod/.pyenv/versions/3.12.6/lib/python3.12\n",
      "/home/gitpod/.pyenv/versions/3.12.6/lib/python3.12/lib-dynload\n",
      "\n",
      "/workspace/SkiSnow/venv/lib/python3.12/site-packages\n"
     ]
    }
   ],
   "source": [
    "# Determine the project root directory\n",
    "project_root = os.path.abspath(os.path.join(os.getcwd(), '..'))\n",
    "\n",
    "# Add the project root to sys.path\n",
    "if project_root not in sys.path:\n",
    "    sys.path.insert(0, project_root)\n",
    "\n",
    "print(\"Updated sys.path:\")\n",
    "for path in sys.path:\n",
    "    print(path)\n",
    "\n",
    "from src.data.cleaning import (\n",
    "    get_all_csv_files_with_metadata,\n",
    "    clean_and_filter_data,\n",
    "    save_cleaned_data\n",
    ")\n",
    "from src.features.feature_engineering import (\n",
    "    categorize_season,\n",
    "    add_operating_season_indicator\n",
    ")\n",
    "from src.features.anomaly_detection import (\n",
    "    detect_snow_depth_anomalies,\n",
    "    handle_snow_depth_anomalies\n",
    ")"
   ]
  },
  {
   "cell_type": "markdown",
   "metadata": {},
   "source": [
    "### 3. Define Resort Operating Seasons"
   ]
  },
  {
   "cell_type": "code",
   "execution_count": 6,
   "metadata": {},
   "outputs": [],
   "source": [
    "resort_seasons = {\n",
    "    'austrian_alps/st_anton': {'open': '12-01', 'close': '04-30'},\n",
    "    'austrian_alps/kitzbuhel': {'open': '10-15', 'close': '05-01'},\n",
    "    'austrian_alps/solden': {'open': '11-01', 'close': '05-01'},\n",
    "    'swiss_alps/st_moritz': {'open': '11-25', 'close': '05-01'},\n",
    "    'swiss_alps/verbier': {'open': '12-01', 'close': '04-30'},\n",
    "    'italian_alps/cortina_d_ampezzo': {'open': '11-25', 'close': '04-05'},\n",
    "    'italian_alps/val_gardena': {'open': '12-01', 'close': '04-15'},\n",
    "    'italian_alps/sestriere': {'open': '12-01', 'close': '04-15'},\n",
    "    'slovenian_alps/kranjska_gora': {'open': '12-15', 'close': '04-15'},\n",
    "    'slovenian_alps/mariborsko_pohorje': {'open': '12-01', 'close': '04-05'},\n",
    "    'slovenian_alps/krvavec': {'open': '12-01', 'close': '04-30'},\n",
    "}"
   ]
  },
  {
   "cell_type": "markdown",
   "metadata": {},
   "source": [
    "### 4. Load and Clean Data"
   ]
  },
  {
   "cell_type": "code",
   "execution_count": 7,
   "metadata": {},
   "outputs": [
    {
     "name": "stdout",
     "output_type": "stream",
     "text": [
      "Excluding resort due to insufficient data: swiss_alps/verbier\n",
      "Found 10 CSV files after excluding specified resorts.\n",
      "austrian_alps/st_anton: 'snow_depth' is assumed to be in centimeters. No conversion applied.\n",
      "Loaded and cleaned data for austrian_alps/st_anton: 12418 rows.\n",
      "austrian_alps/kitzbuhel: 'snow_depth' is assumed to be in centimeters. No conversion applied.\n",
      "Loaded and cleaned data for austrian_alps/kitzbuhel: 11184 rows.\n",
      "austrian_alps/solden: 'snow_depth' is assumed to be in centimeters. No conversion applied.\n",
      "Loaded and cleaned data for austrian_alps/solden: 12418 rows.\n",
      "italian_alps/sestriere: 'snow_depth' is assumed to be in centimeters. No conversion applied.\n",
      "Loaded and cleaned data for italian_alps/sestriere: 12038 rows.\n",
      "italian_alps/val_gardena: 'snow_depth' is assumed to be in centimeters. No conversion applied.\n",
      "Loaded and cleaned data for italian_alps/val_gardena: 12015 rows.\n",
      "italian_alps/cortina_d_ampezzo: 'snow_depth' is assumed to be in centimeters. No conversion applied.\n",
      "Loaded and cleaned data for italian_alps/cortina_d_ampezzo: 12015 rows.\n",
      "slovenian_alps/kranjska_gora: Converted 'snow_depth' from millimeters to centimeters.\n",
      "Loaded and cleaned data for slovenian_alps/kranjska_gora: 12418 rows.\n",
      "slovenian_alps/krvavec: 'snow_depth' is assumed to be in centimeters. No conversion applied.\n",
      "Loaded and cleaned data for slovenian_alps/krvavec: 12418 rows.\n",
      "slovenian_alps/mariborsko_pohorje: 'snow_depth' is assumed to be in centimeters. No conversion applied.\n",
      "Loaded and cleaned data for slovenian_alps/mariborsko_pohorje: 12418 rows.\n",
      "swiss_alps/st_moritz: 'snow_depth' is assumed to be in centimeters. No conversion applied.\n",
      "Loaded and cleaned data for swiss_alps/st_moritz: 12009 rows.\n"
     ]
    }
   ],
   "source": [
    "# Define the root directory\n",
    "raw_data_root = '../data/raw/cds'\n",
    "processed_data_root = '../data/processed/cds'\n",
    "\n",
    "# Get list of all CSV files with dataset type\n",
    "csv_files = get_all_csv_files_with_metadata(raw_data_root)\n",
    "print(f\"Found {len(csv_files)} CSV files after excluding specified resorts.\")\n",
    "\n",
    "data_frames = {}\n",
    "for file_info in csv_files:\n",
    "    if file_info['type'] == 'new':  # Only process 'new' datasets\n",
    "        key, df = clean_and_filter_data(file_info)\n",
    "        if key and df is not None:\n",
    "            data_frames[key] = df\n",
    "            print(f\"Loaded and cleaned data for {key}: {df.shape[0]} rows.\")\n",
    "    else:\n",
    "        print(f\"Excluded 'old' dataset: {file_info['file_path']}\")"
   ]
  },
  {
   "cell_type": "markdown",
   "metadata": {},
   "source": [
    "### 4. Feature Engineering: Season Categorisation"
   ]
  },
  {
   "cell_type": "code",
   "execution_count": 8,
   "metadata": {},
   "outputs": [
    {
     "name": "stdout",
     "output_type": "stream",
     "text": [
      "Season categorized and operating season indicator added for austrian_alps/st_anton.\n",
      "Season categorized and operating season indicator added for austrian_alps/kitzbuhel.\n",
      "Season categorized and operating season indicator added for austrian_alps/solden.\n",
      "Season categorized and operating season indicator added for italian_alps/sestriere.\n",
      "Season categorized and operating season indicator added for italian_alps/val_gardena.\n",
      "Season categorized and operating season indicator added for italian_alps/cortina_d_ampezzo.\n",
      "Season categorized and operating season indicator added for slovenian_alps/kranjska_gora.\n",
      "Season categorized and operating season indicator added for slovenian_alps/krvavec.\n",
      "Season categorized and operating season indicator added for slovenian_alps/mariborsko_pohorje.\n",
      "Season categorized and operating season indicator added for swiss_alps/st_moritz.\n"
     ]
    }
   ],
   "source": [
    "for key, df in data_frames.items():\n",
    "    resort = key\n",
    "    if resort in resort_seasons:\n",
    "        season_info = resort_seasons[resort]\n",
    "        \n",
    "        # Categorize seasons\n",
    "        df = categorize_season(df, season_info, resort)\n",
    "        \n",
    "        # Add operating season indicator\n",
    "        df = add_operating_season_indicator(df)\n",
    "        \n",
    "        # Update the DataFrame in the dictionary\n",
    "        data_frames[key] = df\n",
    "        print(f\"Season categorized and operating season indicator added for {resort}.\")\n",
    "    else:\n",
    "        print(f\"No season information for {resort}. Data not categorized.\")"
   ]
  },
  {
   "cell_type": "markdown",
   "metadata": {},
   "source": [
    "### 5. Handle Missing Values and Anomalies"
   ]
  },
  {
   "cell_type": "code",
   "execution_count": 9,
   "metadata": {},
   "outputs": [
    {
     "name": "stdout",
     "output_type": "stream",
     "text": [
      "austrian_alps/st_anton: Imputed missing 'snow_depth' values.\n",
      "Anomaly detection and handling completed for austrian_alps/st_anton.\n",
      "austrian_alps/kitzbuhel: Imputed missing 'snow_depth' values.\n",
      "Anomaly detection and handling completed for austrian_alps/kitzbuhel.\n",
      "austrian_alps/solden: Imputed missing 'snow_depth' values.\n",
      "Anomaly detection and handling completed for austrian_alps/solden.\n",
      "italian_alps/sestriere: Imputed missing 'snow_depth' values.\n",
      "Anomaly detection and handling completed for italian_alps/sestriere.\n",
      "italian_alps/val_gardena: Imputed missing 'snow_depth' values.\n",
      "Anomaly detection and handling completed for italian_alps/val_gardena.\n",
      "italian_alps/cortina_d_ampezzo: Imputed missing 'snow_depth' values.\n",
      "Anomaly detection and handling completed for italian_alps/cortina_d_ampezzo.\n",
      "slovenian_alps/kranjska_gora: Imputed missing 'snow_depth' values.\n",
      "Anomaly detection and handling completed for slovenian_alps/kranjska_gora.\n",
      "slovenian_alps/krvavec: Imputed missing 'snow_depth' values.\n",
      "Anomaly detection and handling completed for slovenian_alps/krvavec.\n",
      "slovenian_alps/mariborsko_pohorje: Imputed missing 'snow_depth' values.\n",
      "Anomaly detection and handling completed for slovenian_alps/mariborsko_pohorje.\n",
      "swiss_alps/st_moritz: Imputed missing 'snow_depth' values.\n",
      "Anomaly detection and handling completed for swiss_alps/st_moritz.\n"
     ]
    },
    {
     "name": "stderr",
     "output_type": "stream",
     "text": [
      "/tmp/ipykernel_5072/2291419917.py:5: FutureWarning: A value is trying to be set on a copy of a DataFrame or Series through chained assignment using an inplace method.\n",
      "The behavior will change in pandas 3.0. This inplace method will never work because the intermediate object on which we are setting values always behaves as a copy.\n",
      "\n",
      "For example, when doing 'df[col].method(value, inplace=True)', try using 'df.method({col: value}, inplace=True)' or df[col] = df[col].method(value) instead, to perform the operation inplace on the original object.\n",
      "\n",
      "\n",
      "  df['snow_depth'].fillna(method='ffill', inplace=True)\n",
      "/tmp/ipykernel_5072/2291419917.py:5: FutureWarning: Series.fillna with 'method' is deprecated and will raise in a future version. Use obj.ffill() or obj.bfill() instead.\n",
      "  df['snow_depth'].fillna(method='ffill', inplace=True)\n",
      "/tmp/ipykernel_5072/2291419917.py:5: FutureWarning: A value is trying to be set on a copy of a DataFrame or Series through chained assignment using an inplace method.\n",
      "The behavior will change in pandas 3.0. This inplace method will never work because the intermediate object on which we are setting values always behaves as a copy.\n",
      "\n",
      "For example, when doing 'df[col].method(value, inplace=True)', try using 'df.method({col: value}, inplace=True)' or df[col] = df[col].method(value) instead, to perform the operation inplace on the original object.\n",
      "\n",
      "\n",
      "  df['snow_depth'].fillna(method='ffill', inplace=True)\n",
      "/tmp/ipykernel_5072/2291419917.py:5: FutureWarning: Series.fillna with 'method' is deprecated and will raise in a future version. Use obj.ffill() or obj.bfill() instead.\n",
      "  df['snow_depth'].fillna(method='ffill', inplace=True)\n",
      "/tmp/ipykernel_5072/2291419917.py:5: FutureWarning: A value is trying to be set on a copy of a DataFrame or Series through chained assignment using an inplace method.\n",
      "The behavior will change in pandas 3.0. This inplace method will never work because the intermediate object on which we are setting values always behaves as a copy.\n",
      "\n",
      "For example, when doing 'df[col].method(value, inplace=True)', try using 'df.method({col: value}, inplace=True)' or df[col] = df[col].method(value) instead, to perform the operation inplace on the original object.\n",
      "\n",
      "\n",
      "  df['snow_depth'].fillna(method='ffill', inplace=True)\n",
      "/tmp/ipykernel_5072/2291419917.py:5: FutureWarning: Series.fillna with 'method' is deprecated and will raise in a future version. Use obj.ffill() or obj.bfill() instead.\n",
      "  df['snow_depth'].fillna(method='ffill', inplace=True)\n",
      "/tmp/ipykernel_5072/2291419917.py:5: FutureWarning: A value is trying to be set on a copy of a DataFrame or Series through chained assignment using an inplace method.\n",
      "The behavior will change in pandas 3.0. This inplace method will never work because the intermediate object on which we are setting values always behaves as a copy.\n",
      "\n",
      "For example, when doing 'df[col].method(value, inplace=True)', try using 'df.method({col: value}, inplace=True)' or df[col] = df[col].method(value) instead, to perform the operation inplace on the original object.\n",
      "\n",
      "\n",
      "  df['snow_depth'].fillna(method='ffill', inplace=True)\n",
      "/tmp/ipykernel_5072/2291419917.py:5: FutureWarning: Series.fillna with 'method' is deprecated and will raise in a future version. Use obj.ffill() or obj.bfill() instead.\n",
      "  df['snow_depth'].fillna(method='ffill', inplace=True)\n",
      "/tmp/ipykernel_5072/2291419917.py:5: FutureWarning: A value is trying to be set on a copy of a DataFrame or Series through chained assignment using an inplace method.\n",
      "The behavior will change in pandas 3.0. This inplace method will never work because the intermediate object on which we are setting values always behaves as a copy.\n",
      "\n",
      "For example, when doing 'df[col].method(value, inplace=True)', try using 'df.method({col: value}, inplace=True)' or df[col] = df[col].method(value) instead, to perform the operation inplace on the original object.\n",
      "\n",
      "\n",
      "  df['snow_depth'].fillna(method='ffill', inplace=True)\n",
      "/tmp/ipykernel_5072/2291419917.py:5: FutureWarning: Series.fillna with 'method' is deprecated and will raise in a future version. Use obj.ffill() or obj.bfill() instead.\n",
      "  df['snow_depth'].fillna(method='ffill', inplace=True)\n",
      "/tmp/ipykernel_5072/2291419917.py:5: FutureWarning: A value is trying to be set on a copy of a DataFrame or Series through chained assignment using an inplace method.\n",
      "The behavior will change in pandas 3.0. This inplace method will never work because the intermediate object on which we are setting values always behaves as a copy.\n",
      "\n",
      "For example, when doing 'df[col].method(value, inplace=True)', try using 'df.method({col: value}, inplace=True)' or df[col] = df[col].method(value) instead, to perform the operation inplace on the original object.\n",
      "\n",
      "\n",
      "  df['snow_depth'].fillna(method='ffill', inplace=True)\n",
      "/tmp/ipykernel_5072/2291419917.py:5: FutureWarning: Series.fillna with 'method' is deprecated and will raise in a future version. Use obj.ffill() or obj.bfill() instead.\n",
      "  df['snow_depth'].fillna(method='ffill', inplace=True)\n",
      "/tmp/ipykernel_5072/2291419917.py:5: FutureWarning: A value is trying to be set on a copy of a DataFrame or Series through chained assignment using an inplace method.\n",
      "The behavior will change in pandas 3.0. This inplace method will never work because the intermediate object on which we are setting values always behaves as a copy.\n",
      "\n",
      "For example, when doing 'df[col].method(value, inplace=True)', try using 'df.method({col: value}, inplace=True)' or df[col] = df[col].method(value) instead, to perform the operation inplace on the original object.\n",
      "\n",
      "\n",
      "  df['snow_depth'].fillna(method='ffill', inplace=True)\n",
      "/tmp/ipykernel_5072/2291419917.py:5: FutureWarning: Series.fillna with 'method' is deprecated and will raise in a future version. Use obj.ffill() or obj.bfill() instead.\n",
      "  df['snow_depth'].fillna(method='ffill', inplace=True)\n",
      "/tmp/ipykernel_5072/2291419917.py:5: FutureWarning: A value is trying to be set on a copy of a DataFrame or Series through chained assignment using an inplace method.\n",
      "The behavior will change in pandas 3.0. This inplace method will never work because the intermediate object on which we are setting values always behaves as a copy.\n",
      "\n",
      "For example, when doing 'df[col].method(value, inplace=True)', try using 'df.method({col: value}, inplace=True)' or df[col] = df[col].method(value) instead, to perform the operation inplace on the original object.\n",
      "\n",
      "\n",
      "  df['snow_depth'].fillna(method='ffill', inplace=True)\n",
      "/tmp/ipykernel_5072/2291419917.py:5: FutureWarning: Series.fillna with 'method' is deprecated and will raise in a future version. Use obj.ffill() or obj.bfill() instead.\n",
      "  df['snow_depth'].fillna(method='ffill', inplace=True)\n",
      "/tmp/ipykernel_5072/2291419917.py:5: FutureWarning: A value is trying to be set on a copy of a DataFrame or Series through chained assignment using an inplace method.\n",
      "The behavior will change in pandas 3.0. This inplace method will never work because the intermediate object on which we are setting values always behaves as a copy.\n",
      "\n",
      "For example, when doing 'df[col].method(value, inplace=True)', try using 'df.method({col: value}, inplace=True)' or df[col] = df[col].method(value) instead, to perform the operation inplace on the original object.\n",
      "\n",
      "\n",
      "  df['snow_depth'].fillna(method='ffill', inplace=True)\n",
      "/tmp/ipykernel_5072/2291419917.py:5: FutureWarning: Series.fillna with 'method' is deprecated and will raise in a future version. Use obj.ffill() or obj.bfill() instead.\n",
      "  df['snow_depth'].fillna(method='ffill', inplace=True)\n",
      "/tmp/ipykernel_5072/2291419917.py:5: FutureWarning: A value is trying to be set on a copy of a DataFrame or Series through chained assignment using an inplace method.\n",
      "The behavior will change in pandas 3.0. This inplace method will never work because the intermediate object on which we are setting values always behaves as a copy.\n",
      "\n",
      "For example, when doing 'df[col].method(value, inplace=True)', try using 'df.method({col: value}, inplace=True)' or df[col] = df[col].method(value) instead, to perform the operation inplace on the original object.\n",
      "\n",
      "\n",
      "  df['snow_depth'].fillna(method='ffill', inplace=True)\n",
      "/tmp/ipykernel_5072/2291419917.py:5: FutureWarning: Series.fillna with 'method' is deprecated and will raise in a future version. Use obj.ffill() or obj.bfill() instead.\n",
      "  df['snow_depth'].fillna(method='ffill', inplace=True)\n"
     ]
    }
   ],
   "source": [
    "for key, df in data_frames.items():\n",
    "    # Impute missing 'snow_depth' during operating season\n",
    "    if 'snow_depth' in df.columns:\n",
    "        # Example imputation logic can be modularized further if needed\n",
    "        df['snow_depth'].fillna(method='ffill', inplace=True)\n",
    "        print(f\"{key}: Imputed missing 'snow_depth' values.\")\n",
    "    \n",
    "    # Detect and handle anomalies\n",
    "    df = detect_snow_depth_anomalies(df, threshold=20)\n",
    "    df = handle_snow_depth_anomalies(df)\n",
    "    \n",
    "    # Update the DataFrame in the dictionary\n",
    "    data_frames[key] = df\n",
    "    print(f\"Anomaly detection and handling completed for {key}.\")"
   ]
  },
  {
   "cell_type": "markdown",
   "metadata": {},
   "source": [
    "### 6. Rounding and Unit Conversion"
   ]
  },
  {
   "cell_type": "code",
   "execution_count": 10,
   "metadata": {},
   "outputs": [
    {
     "name": "stdout",
     "output_type": "stream",
     "text": [
      "austrian_alps/st_anton: Rounded 'snow_depth' to 1 decimal places.\n",
      "austrian_alps/st_anton: Rounded 'precipitation_sum' to 1 decimal places.\n",
      "austrian_alps/st_anton: Rounded 'temperature_min' to 1 decimal places.\n",
      "austrian_alps/st_anton: Rounded 'temperature_max' to 1 decimal places.\n",
      "Processed numerical columns for austrian_alps/st_anton.\n",
      "austrian_alps/kitzbuhel: Rounded 'snow_depth' to 1 decimal places.\n",
      "austrian_alps/kitzbuhel: Rounded 'precipitation_sum' to 1 decimal places.\n",
      "austrian_alps/kitzbuhel: Rounded 'temperature_min' to 1 decimal places.\n",
      "austrian_alps/kitzbuhel: Rounded 'temperature_max' to 1 decimal places.\n",
      "Processed numerical columns for austrian_alps/kitzbuhel.\n",
      "austrian_alps/solden: Rounded 'snow_depth' to 1 decimal places.\n",
      "austrian_alps/solden: Rounded 'precipitation_sum' to 1 decimal places.\n",
      "austrian_alps/solden: Rounded 'temperature_min' to 1 decimal places.\n",
      "austrian_alps/solden: Rounded 'temperature_max' to 1 decimal places.\n",
      "Processed numerical columns for austrian_alps/solden.\n",
      "italian_alps/sestriere: Rounded 'snow_depth' to 1 decimal places.\n",
      "italian_alps/sestriere: Rounded 'precipitation_sum' to 1 decimal places.\n",
      "italian_alps/sestriere: Rounded 'temperature_min' to 1 decimal places.\n",
      "italian_alps/sestriere: Rounded 'temperature_max' to 1 decimal places.\n",
      "Processed numerical columns for italian_alps/sestriere.\n",
      "italian_alps/val_gardena: Rounded 'snow_depth' to 1 decimal places.\n",
      "italian_alps/val_gardena: Rounded 'precipitation_sum' to 1 decimal places.\n",
      "italian_alps/val_gardena: Rounded 'temperature_min' to 1 decimal places.\n",
      "italian_alps/val_gardena: Rounded 'temperature_max' to 1 decimal places.\n",
      "Processed numerical columns for italian_alps/val_gardena.\n",
      "italian_alps/cortina_d_ampezzo: Rounded 'snow_depth' to 1 decimal places.\n",
      "italian_alps/cortina_d_ampezzo: Rounded 'precipitation_sum' to 1 decimal places.\n",
      "italian_alps/cortina_d_ampezzo: Rounded 'temperature_min' to 1 decimal places.\n",
      "italian_alps/cortina_d_ampezzo: Rounded 'temperature_max' to 1 decimal places.\n",
      "Processed numerical columns for italian_alps/cortina_d_ampezzo.\n",
      "slovenian_alps/kranjska_gora: Rounded 'snow_depth' to 1 decimal places.\n",
      "slovenian_alps/kranjska_gora: Rounded 'precipitation_sum' to 1 decimal places.\n",
      "slovenian_alps/kranjska_gora: Rounded 'temperature_min' to 1 decimal places.\n",
      "slovenian_alps/kranjska_gora: Rounded 'temperature_max' to 1 decimal places.\n",
      "Processed numerical columns for slovenian_alps/kranjska_gora.\n",
      "slovenian_alps/krvavec: Rounded 'snow_depth' to 1 decimal places.\n",
      "slovenian_alps/krvavec: Rounded 'precipitation_sum' to 1 decimal places.\n",
      "slovenian_alps/krvavec: Rounded 'temperature_min' to 1 decimal places.\n",
      "slovenian_alps/krvavec: Rounded 'temperature_max' to 1 decimal places.\n",
      "Processed numerical columns for slovenian_alps/krvavec.\n",
      "slovenian_alps/mariborsko_pohorje: Rounded 'snow_depth' to 1 decimal places.\n",
      "slovenian_alps/mariborsko_pohorje: Rounded 'precipitation_sum' to 1 decimal places.\n",
      "slovenian_alps/mariborsko_pohorje: Rounded 'temperature_min' to 1 decimal places.\n",
      "slovenian_alps/mariborsko_pohorje: Rounded 'temperature_max' to 1 decimal places.\n",
      "Processed numerical columns for slovenian_alps/mariborsko_pohorje.\n",
      "swiss_alps/st_moritz: Rounded 'snow_depth' to 1 decimal places.\n",
      "swiss_alps/st_moritz: Rounded 'precipitation_sum' to 1 decimal places.\n",
      "swiss_alps/st_moritz: Rounded 'temperature_min' to 1 decimal places.\n",
      "swiss_alps/st_moritz: Rounded 'temperature_max' to 1 decimal places.\n",
      "Processed numerical columns for swiss_alps/st_moritz.\n"
     ]
    }
   ],
   "source": [
    "columns_to_round = {\n",
    "    'snow_depth': 1,\n",
    "    'precipitation_sum': 1,\n",
    "    'temperature_min': 1,\n",
    "    'temperature_max': 1,\n",
    "}\n",
    "\n",
    "for key, df in data_frames.items():\n",
    "    # Round numerical columns\n",
    "    for column, decimals in columns_to_round.items():\n",
    "        if column in df.columns:\n",
    "            df[column] = df[column].round(decimals)\n",
    "            print(f\"{key}: Rounded '{column}' to {decimals} decimal places.\")\n",
    "    \n",
    "    data_frames[key] = df\n",
    "    print(f\"Processed numerical columns for {key}.\")"
   ]
  },
  {
   "cell_type": "markdown",
   "metadata": {},
   "source": [
    "### 7. Save Cleaned Data"
   ]
  },
  {
   "cell_type": "code",
   "execution_count": 11,
   "metadata": {},
   "outputs": [
    {
     "name": "stdout",
     "output_type": "stream",
     "text": [
      "Saved cleaned data to ../data/processed/cds/austrian_alps/st_anton/st_anton_cleaned_2024-10-28_13-30-56.csv.\n",
      "Saved cleaned data to ../data/processed/cds/austrian_alps/kitzbuhel/kitzbuhel_cleaned_2024-10-28_13-30-56.csv.\n",
      "Saved cleaned data to ../data/processed/cds/austrian_alps/solden/solden_cleaned_2024-10-28_13-30-56.csv.\n",
      "Saved cleaned data to ../data/processed/cds/italian_alps/sestriere/sestriere_cleaned_2024-10-28_13-30-56.csv.\n",
      "Saved cleaned data to ../data/processed/cds/italian_alps/val_gardena/val_gardena_cleaned_2024-10-28_13-30-56.csv.\n",
      "Saved cleaned data to ../data/processed/cds/italian_alps/cortina_d_ampezzo/cortina_d_ampezzo_cleaned_2024-10-28_13-30-56.csv.\n",
      "Saved cleaned data to ../data/processed/cds/slovenian_alps/kranjska_gora/kranjska_gora_cleaned_2024-10-28_13-30-56.csv.\n",
      "Saved cleaned data to ../data/processed/cds/slovenian_alps/krvavec/krvavec_cleaned_2024-10-28_13-30-56.csv.\n",
      "Saved cleaned data to ../data/processed/cds/slovenian_alps/mariborsko_pohorje/mariborsko_pohorje_cleaned_2024-10-28_13-30-56.csv.\n",
      "Saved cleaned data to ../data/processed/cds/swiss_alps/st_moritz/st_moritz_cleaned_2024-10-28_13-30-56.csv.\n"
     ]
    }
   ],
   "source": [
    "save_cleaned_data(data_frames, processed_data_root)"
   ]
  }
 ],
 "metadata": {
  "kernelspec": {
   "display_name": "venv",
   "language": "python",
   "name": "python3"
  },
  "language_info": {
   "codemirror_mode": {
    "name": "ipython",
    "version": 3
   },
   "file_extension": ".py",
   "mimetype": "text/x-python",
   "name": "python",
   "nbconvert_exporter": "python",
   "pygments_lexer": "ipython3",
   "version": "3.12.6"
  }
 },
 "nbformat": 4,
 "nbformat_minor": 2
}
