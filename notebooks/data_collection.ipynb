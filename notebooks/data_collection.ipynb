{
 "cells": [
  {
   "cell_type": "markdown",
   "metadata": {},
   "source": [
    "# Data Collection and Integration of ERA5-Land Dataset\n",
    "\n",
    "In this notebook, we will extend our data collection process to include historical weather data from the ERA5-Land dataset provided by the Copernicus Climate Data Store (CDS). This will allow us to obtain data dating back to 1981, significantly enhancing the robustness of our predictive models.\n",
    "\n",
    "We will:\n",
    "\n",
    "- Set up the CDS API and install the necessary libraries.\n",
    "- Download data for the variables: `temperature_2m_max`, `temperature_2m_min`, `rain_sum`, `snowfall_sum`.\n",
    "- Process and save the data in the same format and structure as our existing datasets.\n",
    "- Integrate the new data with our existing data cleaning pipeline.\n"
   ]
  },
  {
   "cell_type": "markdown",
   "metadata": {},
   "source": [
    "## 2. Setup the CDS API Personal Access Token\n",
    "\n",
    "To access data programmatically from the CDS, we need to set up the CDS API key.\n",
    "\n",
    "**Steps:**\n",
    "\n",
    "1. **Register or Login to CDS:**\n",
    "   - If you do not have an account, please [register](https://cds.climate.copernicus.eu/user/register).\n",
    "   - If you have an account, please [login](https://cds.climate.copernicus.eu/user/login).\n",
    "\n",
    "2. **Agree to Terms of Use:**\n",
    "   - Navigate to the [ERA5-Land dataset page](https://cds.climate.copernicus.eu/cdsapp#!/dataset/reanalysis-era5-land).\n",
    "   - Scroll to the bottom and click \"Accept terms\".\n",
    "\n",
    "3. **Retrieve Your API Key:**\n",
    "   - Go to your [API key page](https://cds.climate.copernicus.eu/api-how-to).\n",
    "   - Copy the code snippet containing your unique API key.\n",
    "\n",
    "4. **Create the `.cdsapirc` File:**\n",
    "   - Create a file named `.cdsapirc` in your home directory.\n",
    "   - Paste the following content into it (replace with your actual key):\n",
    "\n",
    "     ```\n",
    "     url: https://cds.climate.copernicus.eu/api/v2\n",
    "     key: your-uid:your-api-key\n",
    "     ```"
   ]
  },
  {
   "cell_type": "markdown",
   "metadata": {},
   "source": [
    "## 3. Install the CDS API Client\n",
    "\n",
    "The CDS API client is a Python-based library that allows us to access the CDS programmatically.\n",
    "\n",
    "**Installation:**\n",
    "\n",
    "- Run the following command in your terminal or use a code cell to install via `pip`:\n",
    "\n",
    "  ```bash\n",
    "  pip install cdsapi"
   ]
  },
  {
   "cell_type": "code",
   "execution_count": 1,
   "metadata": {},
   "outputs": [
    {
     "name": "stdout",
     "output_type": "stream",
     "text": [
      "Requirement already satisfied: cdsapi in /workspace/SkiSnow/venv/lib/python3.12/site-packages (0.7.3)\n",
      "Requirement already satisfied: cads-api-client>=1.3.2 in /workspace/SkiSnow/venv/lib/python3.12/site-packages (from cdsapi) (1.4.3)\n",
      "Requirement already satisfied: requests>=2.5.0 in /workspace/SkiSnow/venv/lib/python3.12/site-packages (from cdsapi) (2.32.3)\n",
      "Requirement already satisfied: tqdm in /workspace/SkiSnow/venv/lib/python3.12/site-packages (from cdsapi) (4.66.5)\n",
      "Requirement already satisfied: attrs in /workspace/SkiSnow/venv/lib/python3.12/site-packages (from cads-api-client>=1.3.2->cdsapi) (24.2.0)\n",
      "Requirement already satisfied: multiurl in /workspace/SkiSnow/venv/lib/python3.12/site-packages (from cads-api-client>=1.3.2->cdsapi) (0.3.1)\n",
      "Requirement already satisfied: typing-extensions in /workspace/SkiSnow/venv/lib/python3.12/site-packages (from cads-api-client>=1.3.2->cdsapi) (4.12.2)\n",
      "Requirement already satisfied: charset-normalizer<4,>=2 in /workspace/SkiSnow/venv/lib/python3.12/site-packages (from requests>=2.5.0->cdsapi) (3.3.2)\n",
      "Requirement already satisfied: idna<4,>=2.5 in /workspace/SkiSnow/venv/lib/python3.12/site-packages (from requests>=2.5.0->cdsapi) (3.10)\n",
      "Requirement already satisfied: urllib3<3,>=1.21.1 in /workspace/SkiSnow/venv/lib/python3.12/site-packages (from requests>=2.5.0->cdsapi) (2.2.3)\n",
      "Requirement already satisfied: certifi>=2017.4.17 in /workspace/SkiSnow/venv/lib/python3.12/site-packages (from requests>=2.5.0->cdsapi) (2024.8.30)\n",
      "Requirement already satisfied: pytz in /workspace/SkiSnow/venv/lib/python3.12/site-packages (from multiurl->cads-api-client>=1.3.2->cdsapi) (2024.2)\n",
      "Requirement already satisfied: python-dateutil in /workspace/SkiSnow/venv/lib/python3.12/site-packages (from multiurl->cads-api-client>=1.3.2->cdsapi) (2.9.0.post0)\n",
      "Requirement already satisfied: six>=1.5 in /workspace/SkiSnow/venv/lib/python3.12/site-packages (from python-dateutil->multiurl->cads-api-client>=1.3.2->cdsapi) (1.16.0)\n",
      "Note: you may need to restart the kernel to use updated packages.\n"
     ]
    }
   ],
   "source": [
    "# Install the CDS API client\n",
    "%pip install cdsapi"
   ]
  },
  {
   "cell_type": "markdown",
   "metadata": {},
   "source": [
    "## 4. Import Required Libraries"
   ]
  },
  {
   "cell_type": "code",
   "execution_count": 2,
   "metadata": {},
   "outputs": [],
   "source": [
    "import cdsapi\n",
    "import pandas as pd\n",
    "import xarray as xr\n",
    "import os\n",
    "import numpy as np\n",
    "from datetime import datetime"
   ]
  },
  {
   "cell_type": "markdown",
   "metadata": {},
   "source": [
    "## 5. Define the List of Resorts and Their Coordinates\n",
    "\n",
    "We need to specify the latitude and longitude of each resort to download data specific to their locations."
   ]
  },
  {
   "cell_type": "code",
   "execution_count": 3,
   "metadata": {},
   "outputs": [],
   "source": [
    "# Dictionary of resorts with their coordinates\n",
    "resorts = {\n",
    "    'french_alps/chamonix': {'lat': 45.9237, 'lon': 6.8694},\n",
    "    'french_alps/val_d_isere_tignes': {'lat': 45.4469, 'lon': 6.9790},\n",
    "    'french_alps/les_trois_vallees': {'lat': 45.3781, 'lon': 6.6374},\n",
    "    'austrian_alps/st_anton': {'lat': 47.1287, 'lon': 10.2643},\n",
    "    'austrian_alps/kitzbuhel': {'lat': 47.4467, 'lon': 12.3929},\n",
    "    'austrian_alps/solden': {'lat': 46.9690, 'lon': 11.0106},\n",
    "    'swiss_alps/zermatt': {'lat': 46.0207, 'lon': 7.7491},\n",
    "    'swiss_alps/st_moritz': {'lat': 46.4907, 'lon': 9.8355},\n",
    "    'swiss_alps/verbier': {'lat': 46.0965, 'lon': 7.2269},\n",
    "    'italian_alps/cortina_d_ampezzo': {'lat': 46.5405, 'lon': 12.1357},\n",
    "    'italian_alps/val_gardena': {'lat': 46.5719, 'lon': 11.7173},\n",
    "    'italian_alps/sestriere': {'lat': 44.9555, 'lon': 6.8835},\n",
    "    'slovenian_alps/kranjska_gora': {'lat': 46.4847, 'lon': 13.7836},\n",
    "    'slovenian_alps/mariborsko_pohorje': {'lat': 46.5152, 'lon': 15.5931},\n",
    "    'slovenian_alps/krvavec': {'lat': 46.2971, 'lon': 14.5375},\n",
    "}\n"
   ]
  },
  {
   "cell_type": "markdown",
   "metadata": {},
   "source": [
    "### 6.1 Function to Download ERA5-Land Data\n",
    "\n",
    "We define a function `download_era5_land_data` that uses the CDS API to download the required variables for a given resort.\n"
   ]
  },
  {
   "cell_type": "code",
   "execution_count": null,
   "metadata": {},
   "outputs": [],
   "source": []
  }
 ],
 "metadata": {
  "kernelspec": {
   "display_name": "venv",
   "language": "python",
   "name": "python3"
  },
  "language_info": {
   "codemirror_mode": {
    "name": "ipython",
    "version": 3
   },
   "file_extension": ".py",
   "mimetype": "text/x-python",
   "name": "python",
   "nbconvert_exporter": "python",
   "pygments_lexer": "ipython3",
   "version": "3.12.6"
  }
 },
 "nbformat": 4,
 "nbformat_minor": 2
}
