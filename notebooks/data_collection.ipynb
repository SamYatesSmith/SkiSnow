{
 "cells": [
  {
   "cell_type": "markdown",
   "metadata": {},
   "source": [
    "# Data Collection and Integration of Meteostat Dataset\n",
    "\n",
    "In this notebook, we will extend our data collection process to include historical weather data from the MeteoStat dataset, supplied via Python library. This will allow us to obtain data dating back to 1990, significantly enhancing the robustness of our predictive models.\n",
    "\n",
    "We will:\n",
    "\n",
    "- Set up Meteostat and install the necessary libraries.\n",
    "- Download data for the variables: `temperature`, `rainfall`, `snowfall`.\n",
    "- Process and save the data in the same format and structure as our existing datasets.\n",
    "- Integrate the new data with our existing data cleaning pipeline.\n"
   ]
  },
  {
   "cell_type": "markdown",
   "metadata": {},
   "source": [
    "## 2. Install the Meteostat Client\n",
    "\n",
    "The Meteostat client is a Python-based library that allows us to access the dataset programmatically.\n",
    "\n",
    "**Installation:**\n",
    "\n",
    "- Run the following command in your terminal or use a code cell to install via `pip`:"
   ]
  },
  {
   "cell_type": "code",
   "execution_count": 32,
   "metadata": {},
   "outputs": [
    {
     "name": "stdout",
     "output_type": "stream",
     "text": [
      "Requirement already satisfied: meteostat in /workspace/SkiSnow/venv/lib/python3.12/site-packages (1.6.8)\n",
      "Requirement already satisfied: pandas>=1.1 in /workspace/SkiSnow/venv/lib/python3.12/site-packages (from meteostat) (2.2.3)\n",
      "Requirement already satisfied: pytz in /workspace/SkiSnow/venv/lib/python3.12/site-packages (from meteostat) (2024.2)\n",
      "Requirement already satisfied: numpy in /workspace/SkiSnow/venv/lib/python3.12/site-packages (from meteostat) (2.1.1)\n",
      "Requirement already satisfied: python-dateutil>=2.8.2 in /workspace/SkiSnow/venv/lib/python3.12/site-packages (from pandas>=1.1->meteostat) (2.9.0.post0)\n",
      "Requirement already satisfied: tzdata>=2022.7 in /workspace/SkiSnow/venv/lib/python3.12/site-packages (from pandas>=1.1->meteostat) (2024.2)\n",
      "Requirement already satisfied: six>=1.5 in /workspace/SkiSnow/venv/lib/python3.12/site-packages (from python-dateutil>=2.8.2->pandas>=1.1->meteostat) (1.16.0)\n",
      "Note: you may need to restart the kernel to use updated packages.\n"
     ]
    }
   ],
   "source": [
    "%pip install meteostat"
   ]
  },
  {
   "cell_type": "code",
   "execution_count": 33,
   "metadata": {},
   "outputs": [
    {
     "name": "stdout",
     "output_type": "stream",
     "text": [
      "1.6.8\n"
     ]
    }
   ],
   "source": [
    "import meteostat\n",
    "print(meteostat.__version__)"
   ]
  },
  {
   "cell_type": "markdown",
   "metadata": {},
   "source": [
    "## 3. Import Required Libraries"
   ]
  },
  {
   "cell_type": "code",
   "execution_count": 34,
   "metadata": {},
   "outputs": [],
   "source": [
    "import os\n",
    "import pandas as pd\n",
    "import numpy as np\n",
    "from meteostat import Stations, Daily\n",
    "from datetime import datetime\n",
    "import time"
   ]
  },
  {
   "cell_type": "markdown",
   "metadata": {},
   "source": [
    "### 3(a) Define the Correct Data Paths"
   ]
  },
  {
   "cell_type": "code",
   "execution_count": 35,
   "metadata": {},
   "outputs": [
    {
     "name": "stdout",
     "output_type": "stream",
     "text": [
      "Raw data will be saved to: /workspace/SkiSnow/data/raw/cds\n"
     ]
    }
   ],
   "source": [
    "\n",
    "# Define the root data directory\n",
    "data_root = '/workspace/SkiSnow/data'\n",
    "\n",
    "# Define subdirectories for raw data\n",
    "raw_data_root = os.path.join(data_root, 'raw', 'cds')\n",
    "\n",
    "# Create the directories if they don't exist\n",
    "os.makedirs(raw_data_root, exist_ok=True)\n",
    "\n",
    "print(f\"Raw data will be saved to: {raw_data_root}\")"
   ]
  },
  {
   "cell_type": "markdown",
   "metadata": {},
   "source": [
    "## 4. Define the List of Resorts and Their Coordinates\n",
    "\n",
    "Specify each ski resort with its corresponding latitude and longitude. This information is crucial for fetching accurate weather data."
   ]
  },
  {
   "cell_type": "code",
   "execution_count": 36,
   "metadata": {},
   "outputs": [],
   "source": [
    "# Dictionary of resorts with their coordinates\n",
    "resorts = {\n",
    "    'french_alps/chamonix': {\n",
    "        'latitude': 45.9237,\n",
    "        'longitude': 6.8694,\n",
    "        'months_open': ['12', '01', '02', '03', '04'], \n",
    "    },\n",
    "    'french_alps/val_d_isere_tignes': {\n",
    "        'latitude': 45.4969,\n",
    "        'longitude': 7.0290,\n",
    "        'months_open': ['11', '12', '01', '02', '03', '04', '05'],\n",
    "    },\n",
    "    'french_alps/les_trois_vallees': {\n",
    "        'latitude': 45.4281,\n",
    "        'longitude': 6.6874,\n",
    "        'months_open': ['12', '01', '02', '03', '04'],\n",
    "    },\n",
    "    'austrian_alps/st_anton': {\n",
    "        'latitude': 47.1787,\n",
    "        'longitude': 10.3143,\n",
    "        'months_open': ['12', '01', '02', '03', '04'],\n",
    "    },\n",
    "    'austrian_alps/kitzbuhel': {\n",
    "        'latitude': 47.4967,\n",
    "        'longitude': 12.4429,\n",
    "        'months_open': ['11', '12', '01', '02', '03', '04'],\n",
    "    },\n",
    "    'austrian_alps/solden': {\n",
    "        'latitude': 47.0190,\n",
    "        'longitude': 11.0606,\n",
    "        'months_open': ['10', '11', '12', '01', '02', '03', '04', '05'],\n",
    "    },\n",
    "    'swiss_alps/zermatt': {\n",
    "        'latitude': 46.0707,\n",
    "        'longitude': 7.7991,\n",
    "        'months_open': ['11', '12', '01', '02', '03', '04', '05'],\n",
    "    },\n",
    "    'swiss_alps/st_moritz': {\n",
    "        'latitude': 46.5407,\n",
    "        'longitude': 9.8855,\n",
    "        'months_open': ['11', '12', '01', '02', '03', '04'],\n",
    "    },\n",
    "    'swiss_alps/verbier': {\n",
    "        'latitude': 46.1465,\n",
    "        'longitude': 7.2769,\n",
    "        'months_open': ['12', '01', '02', '03', '04'],\n",
    "    },\n",
    "    'italian_alps/cortina_d_ampezzo': {\n",
    "        'latitude': 46.5905,\n",
    "        'longitude': 12.1857,\n",
    "        'months_open': ['12', '01', '02', '03', '04'],\n",
    "    },\n",
    "    'italian_alps/val_gardena': {\n",
    "        'latitude': 46.6219,\n",
    "        'longitude': 11.7673,\n",
    "        'months_open': ['12', '01', '02', '03', '04'],\n",
    "    },\n",
    "    'italian_alps/sestriere': {\n",
    "        'latitude': 45.0055,\n",
    "        'longitude': 6.9335,\n",
    "        'months_open': ['12', '01', '02', '03', '04'],\n",
    "    },\n",
    "    'slovenian_alps/kranjska_gora': {\n",
    "        'latitude': 46.5347,\n",
    "        'longitude': 13.8336,\n",
    "        'months_open': ['12', '01', '02', '03'],\n",
    "    },\n",
    "    'slovenian_alps/mariborsko_pohorje': {\n",
    "        'latitude': 46.5652,\n",
    "        'longitude': 15.6431,\n",
    "        'months_open': ['12', '01', '02', '03'],\n",
    "    },\n",
    "    'slovenian_alps/krvavec': {\n",
    "        'latitude': 46.3471,\n",
    "        'longitude': 14.5875,\n",
    "        'months_open': ['12', '01', '02', '03', '04'],\n",
    "    },\n",
    "}\n"
   ]
  },
  {
   "cell_type": "markdown",
   "metadata": {},
   "source": [
    "### 5. Function to Find the Nearest Weather Station\n",
    "\n",
    "Meteostat retrieves data based on weather stations. This function identifies the closest station to a given resort's coordinates."
   ]
  },
  {
   "cell_type": "code",
   "execution_count": 37,
   "metadata": {},
   "outputs": [],
   "source": [
    "def get_nearest_station(latitude, longitude, start_year, end_year):\n",
    "    \"\"\"\n",
    "    Find the nearest weather station to the given coordinates with available data.\n",
    "    \"\"\"\n",
    "    # Define the time period\n",
    "    start = datetime(start_year, 1, 1)\n",
    "    end = datetime(end_year, 12, 31)\n",
    "    \n",
    "    # Search for stations nearby\n",
    "    stations = Stations()\n",
    "    stations = stations.nearby(latitude, longitude)\n",
    "    \n",
    "    # Filter stations with daily data availability\n",
    "    stations = stations.inventory('daily', (start, end))\n",
    "    \n",
    "    # Fetch the nearest station\n",
    "    station = stations.fetch(1)\n",
    "    \n",
    "    if not station.empty:\n",
    "        return station.index[0]\n",
    "    else:\n",
    "        return None\n"
   ]
  },
  {
   "cell_type": "markdown",
   "metadata": {},
   "source": [
    "### 6. Function to Download Meteostat Data\n",
    "\n",
    "This function downloads the required weather variables for a specific resort and time range."
   ]
  },
  {
   "cell_type": "code",
   "execution_count": 38,
   "metadata": {},
   "outputs": [],
   "source": [
    "def download_meteostat_data(resort_name, latitude, longitude, start_year, end_year, output_dir):\n",
    "    \"\"\"\n",
    "    Download daily weather data for the specified resort using Meteostat.\n",
    "    \n",
    "    Parameters:\n",
    "    - resort_name (str): Name of the resort.\n",
    "    - latitude (float): Latitude of the resort.\n",
    "    - longitude (float): Longitude of the resort.\n",
    "    - start_year (int): Starting year for data retrieval.\n",
    "    - end_year (int): Ending year for data retrieval.\n",
    "    - output_dir (str): Directory to save the downloaded CSV file.\n",
    "    \"\"\"\n",
    "    # Find the nearest station\n",
    "    station_id = get_nearest_station(latitude, longitude, start_year, end_year)\n",
    "    \n",
    "    if not station_id:\n",
    "        print(f\"No station found for {resort_name} at ({latitude}, {longitude}).\")\n",
    "        return\n",
    "    \n",
    "    print(f\"Nearest station for {resort_name}: {station_id}\")\n",
    "    \n",
    "    # Define the time period\n",
    "    start = datetime(start_year, 1, 1)\n",
    "    end = datetime(end_year, 12, 31)\n",
    "    \n",
    "    # Fetch daily data\n",
    "    data = Daily(station_id, start, end)\n",
    "    data = data.fetch()\n",
    "    \n",
    "    if data.empty:\n",
    "        print(f\"No data available for {resort_name} from {start_year} to {end_year}.\")\n",
    "        return\n",
    "    \n",
    "    # Select required variables and rename them\n",
    "    data = data[['tmin', 'tmax', 'prcp', 'snow']]\n",
    "    data = data.rename(columns={\n",
    "        'tmin': 'temperature_min',\n",
    "        'tmax': 'temperature_max',\n",
    "        'prcp': 'precipitation_sum',\n",
    "        'snow': 'snow_depth'\n",
    "    })\n",
    "    \n",
    "    # Reset index to have 'time' as a column\n",
    "    data = data.reset_index()\n",
    "    \n",
    "    # Define the output file path\n",
    "    os.makedirs(output_dir, exist_ok=True)\n",
    "    file_name = f\"{resort_name.replace('/', '_')}_1990_2023.csv\"  # Adjust years as needed\n",
    "    file_path = os.path.join(output_dir, file_name)\n",
    "    \n",
    "    # Save to CSV if not already present\n",
    "    if not os.path.exists(file_path):\n",
    "        data.to_csv(file_path, index=False)\n",
    "        print(f\"Data for {resort_name} saved to {file_path}.\")\n",
    "    else:\n",
    "        print(f\"Data for {resort_name} from 1990 to 2023 already exists at {file_path}.\")\n"
   ]
  },
  {
   "cell_type": "markdown",
   "metadata": {},
   "source": [
    "### 7. Function to Process Downloaded Data\n",
    "\n",
    "Although Meteostat provides data in CSV format, this function ensures consistency and prepares the data for integration."
   ]
  },
  {
   "cell_type": "code",
   "execution_count": 39,
   "metadata": {},
   "outputs": [],
   "source": [
    "def process_meteostat_data(file_path):\n",
    "    \"\"\"\n",
    "    Process the downloaded Meteostat CSV data.\n",
    "    \n",
    "    Parameters:\n",
    "    - file_path (str): Path to the downloaded CSV file.\n",
    "    \n",
    "    Returns:\n",
    "    - pd.DataFrame: Processed data.\n",
    "    \"\"\"\n",
    "    # Read the CSV file\n",
    "    df = pd.read_csv(file_path)\n",
    "    \n",
    "    # Convert 'time' to datetime\n",
    "    df['time'] = pd.to_datetime(df['time'])\n",
    "    \n",
    "    # Keep only necessary columns\n",
    "    columns_to_keep = ['time', 'temperature_min', 'temperature_max', 'precipitation_sum', 'snow_depth']\n",
    "    df = df[columns_to_keep]\n",
    "    \n",
    "    # Rename 'time' to 'date'\n",
    "    df = df.rename(columns={'time': 'date'})\n",
    "    \n",
    "    # Handle missing values\n",
    "    df['temperature_min'] = df['temperature_min'].replace(-9999, np.nan)\n",
    "    df['temperature_max'] = df['temperature_max'].replace(-9999, np.nan)\n",
    "    df['precipitation_sum'] = df['precipitation_sum'].replace(-9999, np.nan)\n",
    "    df['snow_depth'] = df['snow_depth'].replace(-9999, np.nan)\n",
    "    \n",
    "    return df\n",
    "\n"
   ]
  },
  {
   "cell_type": "markdown",
   "metadata": {},
   "source": [
    "### 8. Compile and Save the Data\n",
    "\n",
    "After processing individual CSV files, compile them into a single dataset for each resort."
   ]
  },
  {
   "cell_type": "code",
   "execution_count": 40,
   "metadata": {},
   "outputs": [],
   "source": [
    "def compile_meteostat_data(resort_name, raw_data_dir, compiled_csv_path):\n",
    "    \"\"\"\n",
    "    Compile the downloaded Meteostat CSV data for the resort.\n",
    "    \n",
    "    Parameters:\n",
    "    - resort_name (str): Name of the resort.\n",
    "    - raw_data_dir (str): Directory containing the downloaded CSV file.\n",
    "    - compiled_csv_path (str): Path to save the compiled CSV file.\n",
    "    \"\"\"\n",
    "    # Define the raw data file path\n",
    "    file_name = f\"{resort_name.replace('/', '_')}_1990_2023.csv\"  # Adjust years as needed\n",
    "    file_path = os.path.join(raw_data_dir, file_name)\n",
    "    \n",
    "    if os.path.exists(file_path):\n",
    "        print(f\"Processing data for {resort_name}...\")\n",
    "        df = process_meteostat_data(file_path)\n",
    "        \n",
    "        # Save the processed data (overwrite the existing file for a single copy)\n",
    "        df.to_csv(compiled_csv_path, index=False)\n",
    "        print(f\"Compiled data saved to {compiled_csv_path}.\")\n",
    "    else:\n",
    "        print(f\"File {file_name} not found for {resort_name}.\")\n",
    "\n"
   ]
  },
  {
   "cell_type": "markdown",
   "metadata": {},
   "source": [
    "### 9. Execute the Data Retrieval Workflow\n",
    "\n",
    "With all functions defined, we can now orchestrate the data retrieval and processing for all resorts over the desired time frame."
   ]
  },
  {
   "cell_type": "code",
   "execution_count": 45,
   "metadata": {},
   "outputs": [],
   "source": [
    "def run_data_retrieval(resorts, start_year, end_year, raw_data_root):\n",
    "    \"\"\"\n",
    "    Orchestrate the data retrieval and processing for all resorts.\n",
    "    \n",
    "    Parameters:\n",
    "    - resorts (dict): Dictionary of resorts with coordinates and open months.\n",
    "    - start_year (int): Starting year for data retrieval.\n",
    "    - end_year (int): Ending year for data retrieval.\n",
    "    - raw_data_root (str): Root directory for raw data.\n",
    "    \"\"\"\n",
    "    for resort_name, resort_info in resorts.items():\n",
    "        latitude = resort_info['latitude']\n",
    "        longitude = resort_info['longitude']\n",
    "        months_open = resort_info['months_open']\n",
    "        \n",
    "        # Define resort-specific raw data directory\n",
    "        resort_raw_dir = os.path.join(raw_data_root, resort_name.replace('/', '_'))\n",
    "        \n",
    "        # Define compiled CSV path within raw_data_root\n",
    "        compiled_csv_path = os.path.join(raw_data_root, f\"{resort_name.replace('/', '_')}_meteostat.csv\")\n",
    "        \n",
    "        # Download data\n",
    "        download_meteostat_data(resort_name, latitude, longitude, start_year, end_year, resort_raw_dir)\n",
    "        \n",
    "        # Optional: Pause to respect any rate limits\n",
    "        time.sleep(1)\n",
    "        \n",
    "        # Compile data\n",
    "        compile_meteostat_data(resort_name, resort_raw_dir, compiled_csv_path)\n",
    "\n"
   ]
  },
  {
   "cell_type": "code",
   "execution_count": 46,
   "metadata": {},
   "outputs": [
    {
     "name": "stdout",
     "output_type": "stream",
     "text": [
      "Nearest station for french_alps/chamonix: 06717\n",
      "Data for french_alps/chamonix from 1990 to 2023 already exists at /workspace/SkiSnow/data/raw/cds/french_alps_chamonix/french_alps_chamonix_1990_2023.csv.\n",
      "Processing data for french_alps/chamonix...\n",
      "Compiled data saved to /workspace/SkiSnow/data/raw/cds/french_alps_chamonix_meteostat.csv.\n",
      "Nearest station for french_alps/val_d_isere_tignes: 06717\n",
      "Data for french_alps/val_d_isere_tignes saved to /workspace/SkiSnow/data/raw/cds/french_alps_val_d_isere_tignes/french_alps_val_d_isere_tignes_1990_2023.csv.\n",
      "Processing data for french_alps/val_d_isere_tignes...\n",
      "Compiled data saved to /workspace/SkiSnow/data/raw/cds/french_alps_val_d_isere_tignes_meteostat.csv.\n",
      "Nearest station for french_alps/les_trois_vallees: 06717\n",
      "Data for french_alps/les_trois_vallees saved to /workspace/SkiSnow/data/raw/cds/french_alps_les_trois_vallees/french_alps_les_trois_vallees_1990_2023.csv.\n",
      "Processing data for french_alps/les_trois_vallees...\n",
      "Compiled data saved to /workspace/SkiSnow/data/raw/cds/french_alps_les_trois_vallees_meteostat.csv.\n",
      "Nearest station for austrian_alps/st_anton: 10948\n",
      "Data for austrian_alps/st_anton saved to /workspace/SkiSnow/data/raw/cds/austrian_alps_st_anton/austrian_alps_st_anton_1990_2023.csv.\n",
      "Processing data for austrian_alps/st_anton...\n",
      "Compiled data saved to /workspace/SkiSnow/data/raw/cds/austrian_alps_st_anton_meteostat.csv.\n",
      "Nearest station for austrian_alps/kitzbuhel: D5941\n",
      "Data for austrian_alps/kitzbuhel saved to /workspace/SkiSnow/data/raw/cds/austrian_alps_kitzbuhel/austrian_alps_kitzbuhel_1990_2023.csv.\n",
      "Processing data for austrian_alps/kitzbuhel...\n",
      "Compiled data saved to /workspace/SkiSnow/data/raw/cds/austrian_alps_kitzbuhel_meteostat.csv.\n",
      "Nearest station for austrian_alps/solden: 11120\n",
      "Data for austrian_alps/solden saved to /workspace/SkiSnow/data/raw/cds/austrian_alps_solden/austrian_alps_solden_1990_2023.csv.\n",
      "Processing data for austrian_alps/solden...\n",
      "Compiled data saved to /workspace/SkiSnow/data/raw/cds/austrian_alps_solden_meteostat.csv.\n",
      "Nearest station for swiss_alps/zermatt: 16052\n",
      "Data for swiss_alps/zermatt saved to /workspace/SkiSnow/data/raw/cds/swiss_alps_zermatt/swiss_alps_zermatt_1990_2023.csv.\n",
      "Processing data for swiss_alps/zermatt...\n",
      "Compiled data saved to /workspace/SkiSnow/data/raw/cds/swiss_alps_zermatt_meteostat.csv.\n",
      "Nearest station for swiss_alps/st_moritz: 16008\n",
      "Data for swiss_alps/st_moritz saved to /workspace/SkiSnow/data/raw/cds/swiss_alps_st_moritz/swiss_alps_st_moritz_1990_2023.csv.\n",
      "Processing data for swiss_alps/st_moritz...\n",
      "Compiled data saved to /workspace/SkiSnow/data/raw/cds/swiss_alps_st_moritz_meteostat.csv.\n",
      "Nearest station for swiss_alps/verbier: 06720\n",
      "Data for swiss_alps/verbier saved to /workspace/SkiSnow/data/raw/cds/swiss_alps_verbier/swiss_alps_verbier_1990_2023.csv.\n",
      "Processing data for swiss_alps/verbier...\n",
      "Compiled data saved to /workspace/SkiSnow/data/raw/cds/swiss_alps_verbier_meteostat.csv.\n",
      "Nearest station for italian_alps/cortina_d_ampezzo: 16033\n",
      "Data for italian_alps/cortina_d_ampezzo saved to /workspace/SkiSnow/data/raw/cds/italian_alps_cortina_d_ampezzo/italian_alps_cortina_d_ampezzo_1990_2023.csv.\n",
      "Processing data for italian_alps/cortina_d_ampezzo...\n",
      "Compiled data saved to /workspace/SkiSnow/data/raw/cds/italian_alps_cortina_d_ampezzo_meteostat.csv.\n",
      "Nearest station for italian_alps/val_gardena: 16033\n",
      "Data for italian_alps/val_gardena saved to /workspace/SkiSnow/data/raw/cds/italian_alps_val_gardena/italian_alps_val_gardena_1990_2023.csv.\n",
      "Processing data for italian_alps/val_gardena...\n",
      "Compiled data saved to /workspace/SkiSnow/data/raw/cds/italian_alps_val_gardena_meteostat.csv.\n",
      "Nearest station for italian_alps/sestriere: 16061\n",
      "Data for italian_alps/sestriere saved to /workspace/SkiSnow/data/raw/cds/italian_alps_sestriere/italian_alps_sestriere_1990_2023.csv.\n",
      "Processing data for italian_alps/sestriere...\n",
      "Compiled data saved to /workspace/SkiSnow/data/raw/cds/italian_alps_sestriere_meteostat.csv.\n",
      "Nearest station for slovenian_alps/kranjska_gora: 14008\n",
      "Data for slovenian_alps/kranjska_gora saved to /workspace/SkiSnow/data/raw/cds/slovenian_alps_kranjska_gora/slovenian_alps_kranjska_gora_1990_2023.csv.\n",
      "Processing data for slovenian_alps/kranjska_gora...\n",
      "Compiled data saved to /workspace/SkiSnow/data/raw/cds/slovenian_alps_kranjska_gora_meteostat.csv.\n",
      "Nearest station for slovenian_alps/mariborsko_pohorje: 11240\n",
      "Data for slovenian_alps/mariborsko_pohorje saved to /workspace/SkiSnow/data/raw/cds/slovenian_alps_mariborsko_pohorje/slovenian_alps_mariborsko_pohorje_1990_2023.csv.\n",
      "Processing data for slovenian_alps/mariborsko_pohorje...\n",
      "Compiled data saved to /workspace/SkiSnow/data/raw/cds/slovenian_alps_mariborsko_pohorje_meteostat.csv.\n",
      "Nearest station for slovenian_alps/krvavec: 14015\n",
      "Data for slovenian_alps/krvavec saved to /workspace/SkiSnow/data/raw/cds/slovenian_alps_krvavec/slovenian_alps_krvavec_1990_2023.csv.\n",
      "Processing data for slovenian_alps/krvavec...\n",
      "Compiled data saved to /workspace/SkiSnow/data/raw/cds/slovenian_alps_krvavec_meteostat.csv.\n"
     ]
    }
   ],
   "source": [
    "if __name__ == \"__main__\":\n",
    "    # Define temporal range\n",
    "    start_year = 1990\n",
    "    end_year = 2023  # Adjust as needed\n",
    "    \n",
    "    # Define directories\n",
    "    raw_data_root = '/workspace/SkiSnow/data/raw/cds'\n",
    "    \n",
    "    # Run the data retrieval process\n",
    "    run_data_retrieval(resorts, start_year, end_year, raw_data_root)\n"
   ]
  },
  {
   "cell_type": "markdown",
   "metadata": {},
   "source": [
    "# Setting Up NSIDC API Access for further data collection\n",
    "\n",
    "To access NSIDC data programmatically, we need to set up API authentication using NASA's Earthdata credentials.\n",
    "\n",
    "**Steps:**\n",
    "\n",
    "1. **Create an Earthdata Account:**\n",
    "   - Visit [Earthdata Login](https://urs.earthdata.nasa.gov/users/new) and register for an account.\n",
    "   - Confirm your email address.\n",
    "\n",
    "2. **Obtain an API Token:**\n",
    "   - After logging in, navigate to your profile settings.\n",
    "   - Generate a new API token under the **API Tokens** section.\n",
    "   - Store this token securely as it will be required for API requests.\n",
    "\n",
    "3. **Install Required Libraries:**\n",
    "   - We'll use the `requests` library to interact with the NSIDC API.\n"
   ]
  },
  {
   "cell_type": "code",
   "execution_count": null,
   "metadata": {},
   "outputs": [],
   "source": [
    "%pip install requests"
   ]
  },
  {
   "cell_type": "markdown",
   "metadata": {},
   "source": [
    "### 3.1. Define NSIDC Data Retrieval Functions\n",
    "\n",
    "We'll create functions to:\n",
    "\n",
    "1. **Authenticate** with the NSIDC API using your Earthdata token.\n",
    "2. **Fetch** ice extent, snow cover, and snow melt data for each resort.\n",
    "3. **Save** the retrieved data into the existing RAW resort folders."
   ]
  }
 ],
 "metadata": {
  "kernelspec": {
   "display_name": "venv",
   "language": "python",
   "name": "python3"
  },
  "language_info": {
   "codemirror_mode": {
    "name": "ipython",
    "version": 3
   },
   "file_extension": ".py",
   "mimetype": "text/x-python",
   "name": "python",
   "nbconvert_exporter": "python",
   "pygments_lexer": "ipython3",
   "version": "3.12.6"
  }
 },
 "nbformat": 4,
 "nbformat_minor": 2
}
