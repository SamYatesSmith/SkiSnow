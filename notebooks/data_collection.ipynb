{
 "cells": [
  {
   "cell_type": "markdown",
   "metadata": {},
   "source": [
    "# Data Collection and Integration of Meteostat Dataset\n",
    "\n",
    "In this notebook, we will extend our data collection process to include historical weather data from the MeteoStat dataset, supplied via Python library. This will allow us to obtain data dating back to 1990, significantly enhancing the robustness of our predictive models.\n",
    "\n",
    "We will:\n",
    "\n",
    "- Set up Meteostat and install the necessary libraries.\n",
    "- Download data for the variables: `temperature`, `rainfall`, `snowfall`.\n",
    "- Process and save the data in the same format and structure as our existing datasets.\n",
    "- Integrate the new data with our existing data cleaning pipeline.\n"
   ]
  },
  {
   "cell_type": "markdown",
   "metadata": {},
   "source": [
    "### 1. Import libraries"
   ]
  },
  {
   "cell_type": "code",
   "execution_count": 6,
   "metadata": {},
   "outputs": [],
   "source": [
    "import sys\n",
    "import os\n",
    "import pandas as pd\n",
    "import numpy as np\n",
    "from datetime import datetime\n",
    "import time"
   ]
  },
  {
   "cell_type": "markdown",
   "metadata": {},
   "source": [
    "### 2. Update Python Path & Import Custom Modules"
   ]
  },
  {
   "cell_type": "code",
   "execution_count": 7,
   "metadata": {},
   "outputs": [
    {
     "name": "stdout",
     "output_type": "stream",
     "text": [
      "Updated sys.path:\n",
      "/workspace/SkiSnow\n",
      "/home/gitpod/.pyenv/versions/3.12.6/lib/python312.zip\n",
      "/home/gitpod/.pyenv/versions/3.12.6/lib/python3.12\n",
      "/home/gitpod/.pyenv/versions/3.12.6/lib/python3.12/lib-dynload\n",
      "\n",
      "/workspace/SkiSnow/venv/lib/python3.12/site-packages\n"
     ]
    }
   ],
   "source": [
    "project_root = os.path.abspath(os.path.join(os.getcwd(), '..'))\n",
    "\n",
    "if project_root not in sys.path:\n",
    "    sys.path.insert(0, project_root)\n",
    "\n",
    "print(\"Updated sys.path:\")\n",
    "for path in sys.path:\n",
    "    print(path)\n",
    "\n",
    "from src.data.fetch_data import (\n",
    "    get_nearest_station,\n",
    "    download_meteostat_data\n",
    ")\n",
    "from src.data.processing import (\n",
    "    process_meteostat_data,\n",
    "    compile_meteostat_data\n",
    ")"
   ]
  },
  {
   "cell_type": "markdown",
   "metadata": {},
   "source": [
    "### 3. Define Data Paths"
   ]
  },
  {
   "cell_type": "code",
   "execution_count": 8,
   "metadata": {},
   "outputs": [
    {
     "name": "stdout",
     "output_type": "stream",
     "text": [
      "Raw data will be saved to: /workspace/SkiSnow/data/raw/cds\n"
     ]
    }
   ],
   "source": [
    "# Define the root data directory\n",
    "data_root = '/workspace/SkiSnow/data'\n",
    "\n",
    "# Define subdirectories for raw data\n",
    "raw_data_root = os.path.join(data_root, 'raw', 'cds')\n",
    "\n",
    "# Create the directories if they don't exist\n",
    "os.makedirs(raw_data_root, exist_ok=True)\n",
    "\n",
    "print(f\"Raw data will be saved to: {raw_data_root}\")"
   ]
  },
  {
   "cell_type": "markdown",
   "metadata": {},
   "source": [
    "### 4. Define the List of Resorts and Their Coordinates"
   ]
  },
  {
   "cell_type": "code",
   "execution_count": 9,
   "metadata": {},
   "outputs": [],
   "source": [
    "resorts = {\n",
    "    'austrian_alps/st._anton': {\n",
    "        'latitude': 47.1787,\n",
    "        'longitude': 10.3143,\n",
    "        'months_open': ['12', '01', '02', '03', '04'],\n",
    "    },\n",
    "    'austrian_alps/kitzbuhel': {\n",
    "        'latitude': 47.4967,\n",
    "        'longitude': 12.4429,\n",
    "        'months_open': ['11', '12', '01', '02', '03', '04'],\n",
    "    },\n",
    "    'austrian_alps/solden': {\n",
    "        'latitude': 47.0190,\n",
    "        'longitude': 11.0606,\n",
    "        'months_open': ['10', '11', '12', '01', '02', '03', '04', '05'],\n",
    "    },\n",
    "    'swiss_alps/st_moritz': {\n",
    "        'latitude': 46.5407,\n",
    "        'longitude': 9.8855,\n",
    "        'months_open': ['11', '12', '01', '02', '03', '04'],\n",
    "    },\n",
    "    'swiss_alps/verbier': {\n",
    "        'latitude': 46.1465,\n",
    "        'longitude': 7.2769,\n",
    "        'months_open': ['12', '01', '02', '03', '04'],\n",
    "    },\n",
    "    'italian_alps/cortina_d_ampezzo': {\n",
    "        'latitude': 46.5905,\n",
    "        'longitude': 12.1857,\n",
    "        'months_open': ['12', '01', '02', '03', '04'],\n",
    "    },\n",
    "    'italian_alps/val_gardena': {\n",
    "        'latitude': 46.6219,\n",
    "        'longitude': 11.7673,\n",
    "        'months_open': ['12', '01', '02', '03', '04'],\n",
    "    },\n",
    "    'italian_alps/sestriere': {\n",
    "        'latitude': 45.0055,\n",
    "        'longitude': 6.9335,\n",
    "        'months_open': ['12', '01', '02', '03', '04'],\n",
    "    },\n",
    "    'slovenian_alps/kranjska_gora': {\n",
    "        'latitude': 46.5347,\n",
    "        'longitude': 13.8336,\n",
    "        'months_open': ['12', '01', '02', '03'],\n",
    "    },\n",
    "    'slovenian_alps/mariborsko_pohorje': {\n",
    "        'latitude': 46.5652,\n",
    "        'longitude': 15.6431,\n",
    "        'months_open': ['12', '01', '02', '03'],\n",
    "    },\n",
    "    'slovenian_alps/krvavec': {\n",
    "        'latitude': 46.3471,\n",
    "        'longitude': 14.5875,\n",
    "        'months_open': ['12', '01', '02', '03', '04'],\n",
    "    },\n",
    "}\n"
   ]
  },
  {
   "cell_type": "markdown",
   "metadata": {},
   "source": [
    "### 4. Execute the Data Retrieval Workflow"
   ]
  },
  {
   "cell_type": "code",
   "execution_count": 10,
   "metadata": {},
   "outputs": [],
   "source": [
    "def run_data_retrieval(resorts, start_year, end_year, raw_data_root):\n",
    "    \"\"\"\n",
    "    Orchestrate the data retrieval and processing for all resorts.\n",
    "    \n",
    "    Parameters:\n",
    "    - resorts (dict): Dictionary of resorts with coordinates and open months.\n",
    "    - start_year (int): Starting year for data retrieval.\n",
    "    - end_year (int): Ending year for data retrieval.\n",
    "    - raw_data_root (str): Root directory for raw data.\n",
    "    \n",
    "    Returns:\n",
    "    - None\n",
    "    \"\"\"\n",
    "    for resort_name, resort_info in resorts.items():\n",
    "        latitude = resort_info['latitude']\n",
    "        longitude = resort_info['longitude']\n",
    "        months_open = resort_info['months_open']\n",
    "        \n",
    "        # Split the resort_name into region and resort\n",
    "        try:\n",
    "            region, resort = resort_name.split('/')\n",
    "        except ValueError:\n",
    "            print(f\"Invalid resort_name format: {resort_name}. Skipping.\")\n",
    "            continue\n",
    "        \n",
    "        # Define resort-specific raw data directory using the hierarchical structure\n",
    "        resort_raw_dir = os.path.join(raw_data_root, region, resort)\n",
    "        \n",
    "        # Define compiled CSV path within raw_data_root\n",
    "        compiled_csv_path = os.path.join(\n",
    "            resort_raw_dir,\n",
    "            f\"{resort}_meteostat_{datetime.now().strftime('%Y-%m-%d_%H-%M-%S')}.csv\"\n",
    "        )\n",
    "        \n",
    "        # Download data and get the DataFrame\n",
    "        data_df = download_meteostat_data(\n",
    "            resort_name,\n",
    "            latitude,\n",
    "            longitude,\n",
    "            start_year,\n",
    "            end_year,\n",
    "            resort_raw_dir\n",
    "        )\n",
    "        \n",
    "        if data_df is not None:\n",
    "            print(f\"Data fetched for {resort_name}. Proceeding to compile.\")\n",
    "            time.sleep(1)\n",
    "            \n",
    "            # Compile data and save to CSV\n",
    "            compile_meteostat_data(\n",
    "                resort_name,\n",
    "                data_df,\n",
    "                compiled_csv_path\n",
    "            )\n",
    "        else:\n",
    "            print(f\"Skipping compilation for {resort_name} due to missing data.\")\n"
   ]
  },
  {
   "cell_type": "markdown",
   "metadata": {},
   "source": [
    "### 6. Run the Data Retrieval Process"
   ]
  },
  {
   "cell_type": "code",
   "execution_count": 11,
   "metadata": {},
   "outputs": [
    {
     "name": "stdout",
     "output_type": "stream",
     "text": [
      "Nearest station for austrian_alps/st._anton: 10948\n"
     ]
    },
    {
     "name": "stderr",
     "output_type": "stream",
     "text": [
      "FutureWarning: Support for nested sequences for 'parse_dates' in pd.read_csv is deprecated. Combine the desired columns with pd.to_datetime after parsing instead.\n"
     ]
    },
    {
     "name": "stdout",
     "output_type": "stream",
     "text": [
      "Data for austrian_alps/st._anton fetched successfully.\n",
      "Data fetched for austrian_alps/st._anton. Proceeding to compile.\n",
      "Processing data for austrian_alps/st._anton...\n",
      "Compiled data saved to /workspace/SkiSnow/data/raw/cds/austrian_alps/st._anton/st._anton_meteostat_2024-10-28_10-48-08.csv.\n",
      "Nearest station for austrian_alps/kitzbuhel: D5941\n"
     ]
    },
    {
     "name": "stderr",
     "output_type": "stream",
     "text": [
      "FutureWarning: Support for nested sequences for 'parse_dates' in pd.read_csv is deprecated. Combine the desired columns with pd.to_datetime after parsing instead.\n"
     ]
    },
    {
     "name": "stdout",
     "output_type": "stream",
     "text": [
      "Data for austrian_alps/kitzbuhel fetched successfully.\n",
      "Data fetched for austrian_alps/kitzbuhel. Proceeding to compile.\n",
      "Processing data for austrian_alps/kitzbuhel...\n",
      "Compiled data saved to /workspace/SkiSnow/data/raw/cds/austrian_alps/kitzbuhel/kitzbuhel_meteostat_2024-10-28_10-48-10.csv.\n",
      "Nearest station for austrian_alps/solden: 11120\n"
     ]
    },
    {
     "name": "stderr",
     "output_type": "stream",
     "text": [
      "FutureWarning: Support for nested sequences for 'parse_dates' in pd.read_csv is deprecated. Combine the desired columns with pd.to_datetime after parsing instead.\n"
     ]
    },
    {
     "name": "stdout",
     "output_type": "stream",
     "text": [
      "Data for austrian_alps/solden fetched successfully.\n",
      "Data fetched for austrian_alps/solden. Proceeding to compile.\n",
      "Processing data for austrian_alps/solden...\n",
      "Compiled data saved to /workspace/SkiSnow/data/raw/cds/austrian_alps/solden/solden_meteostat_2024-10-28_10-48-12.csv.\n",
      "Nearest station for swiss_alps/st_moritz: 16008\n"
     ]
    },
    {
     "name": "stderr",
     "output_type": "stream",
     "text": [
      "FutureWarning: Support for nested sequences for 'parse_dates' in pd.read_csv is deprecated. Combine the desired columns with pd.to_datetime after parsing instead.\n"
     ]
    },
    {
     "name": "stdout",
     "output_type": "stream",
     "text": [
      "Data for swiss_alps/st_moritz fetched successfully.\n",
      "Data fetched for swiss_alps/st_moritz. Proceeding to compile.\n",
      "Processing data for swiss_alps/st_moritz...\n",
      "Compiled data saved to /workspace/SkiSnow/data/raw/cds/swiss_alps/st_moritz/st_moritz_meteostat_2024-10-28_10-48-14.csv.\n",
      "Nearest station for swiss_alps/verbier: 06720\n"
     ]
    },
    {
     "name": "stderr",
     "output_type": "stream",
     "text": [
      "FutureWarning: Support for nested sequences for 'parse_dates' in pd.read_csv is deprecated. Combine the desired columns with pd.to_datetime after parsing instead.\n"
     ]
    },
    {
     "name": "stdout",
     "output_type": "stream",
     "text": [
      "Data for swiss_alps/verbier fetched successfully.\n",
      "Data fetched for swiss_alps/verbier. Proceeding to compile.\n",
      "Processing data for swiss_alps/verbier...\n",
      "Compiled data saved to /workspace/SkiSnow/data/raw/cds/swiss_alps/verbier/verbier_meteostat_2024-10-28_10-48-15.csv.\n",
      "Nearest station for italian_alps/cortina_d_ampezzo: 16033\n"
     ]
    },
    {
     "name": "stderr",
     "output_type": "stream",
     "text": [
      "FutureWarning: Support for nested sequences for 'parse_dates' in pd.read_csv is deprecated. Combine the desired columns with pd.to_datetime after parsing instead.\n"
     ]
    },
    {
     "name": "stdout",
     "output_type": "stream",
     "text": [
      "Data for italian_alps/cortina_d_ampezzo fetched successfully.\n",
      "Data fetched for italian_alps/cortina_d_ampezzo. Proceeding to compile.\n",
      "Processing data for italian_alps/cortina_d_ampezzo...\n",
      "Compiled data saved to /workspace/SkiSnow/data/raw/cds/italian_alps/cortina_d_ampezzo/cortina_d_ampezzo_meteostat_2024-10-28_10-48-17.csv.\n",
      "Nearest station for italian_alps/val_gardena: 16033\n",
      "Data for italian_alps/val_gardena fetched successfully.\n",
      "Data fetched for italian_alps/val_gardena. Proceeding to compile.\n",
      "Processing data for italian_alps/val_gardena...\n",
      "Compiled data saved to /workspace/SkiSnow/data/raw/cds/italian_alps/val_gardena/val_gardena_meteostat_2024-10-28_10-48-18.csv.\n",
      "Nearest station for italian_alps/sestriere: 16061\n"
     ]
    },
    {
     "name": "stderr",
     "output_type": "stream",
     "text": [
      "FutureWarning: Support for nested sequences for 'parse_dates' in pd.read_csv is deprecated. Combine the desired columns with pd.to_datetime after parsing instead.\n"
     ]
    },
    {
     "name": "stdout",
     "output_type": "stream",
     "text": [
      "Data for italian_alps/sestriere fetched successfully.\n",
      "Data fetched for italian_alps/sestriere. Proceeding to compile.\n",
      "Processing data for italian_alps/sestriere...\n",
      "Compiled data saved to /workspace/SkiSnow/data/raw/cds/italian_alps/sestriere/sestriere_meteostat_2024-10-28_10-48-19.csv.\n",
      "Nearest station for slovenian_alps/kranjska_gora: 14008\n"
     ]
    },
    {
     "name": "stderr",
     "output_type": "stream",
     "text": [
      "FutureWarning: Support for nested sequences for 'parse_dates' in pd.read_csv is deprecated. Combine the desired columns with pd.to_datetime after parsing instead.\n"
     ]
    },
    {
     "name": "stdout",
     "output_type": "stream",
     "text": [
      "Data for slovenian_alps/kranjska_gora fetched successfully.\n",
      "Data fetched for slovenian_alps/kranjska_gora. Proceeding to compile.\n",
      "Processing data for slovenian_alps/kranjska_gora...\n",
      "Compiled data saved to /workspace/SkiSnow/data/raw/cds/slovenian_alps/kranjska_gora/kranjska_gora_meteostat_2024-10-28_10-48-20.csv.\n",
      "Nearest station for slovenian_alps/mariborsko_pohorje: 11240\n"
     ]
    },
    {
     "name": "stderr",
     "output_type": "stream",
     "text": [
      "FutureWarning: Support for nested sequences for 'parse_dates' in pd.read_csv is deprecated. Combine the desired columns with pd.to_datetime after parsing instead.\n"
     ]
    },
    {
     "name": "stdout",
     "output_type": "stream",
     "text": [
      "Data for slovenian_alps/mariborsko_pohorje fetched successfully.\n",
      "Data fetched for slovenian_alps/mariborsko_pohorje. Proceeding to compile.\n",
      "Processing data for slovenian_alps/mariborsko_pohorje...\n",
      "Compiled data saved to /workspace/SkiSnow/data/raw/cds/slovenian_alps/mariborsko_pohorje/mariborsko_pohorje_meteostat_2024-10-28_10-48-22.csv.\n",
      "Nearest station for slovenian_alps/krvavec: 14015\n"
     ]
    },
    {
     "name": "stderr",
     "output_type": "stream",
     "text": [
      "FutureWarning: Support for nested sequences for 'parse_dates' in pd.read_csv is deprecated. Combine the desired columns with pd.to_datetime after parsing instead.\n"
     ]
    },
    {
     "name": "stdout",
     "output_type": "stream",
     "text": [
      "Data for slovenian_alps/krvavec fetched successfully.\n",
      "Data fetched for slovenian_alps/krvavec. Proceeding to compile.\n",
      "Processing data for slovenian_alps/krvavec...\n",
      "Compiled data saved to /workspace/SkiSnow/data/raw/cds/slovenian_alps/krvavec/krvavec_meteostat_2024-10-28_10-48-23.csv.\n"
     ]
    }
   ],
   "source": [
    "# Define temporal range\n",
    "start_year = 1990\n",
    "end_year = 2023\n",
    "\n",
    "# Run the data retrieval process\n",
    "run_data_retrieval(resorts, start_year, end_year, raw_data_root)"
   ]
  }
 ],
 "metadata": {
  "kernelspec": {
   "display_name": "venv",
   "language": "python",
   "name": "python3"
  },
  "language_info": {
   "codemirror_mode": {
    "name": "ipython",
    "version": 3
   },
   "file_extension": ".py",
   "mimetype": "text/x-python",
   "name": "python",
   "nbconvert_exporter": "python",
   "pygments_lexer": "ipython3",
   "version": "3.12.6"
  }
 },
 "nbformat": 4,
 "nbformat_minor": 2
}
