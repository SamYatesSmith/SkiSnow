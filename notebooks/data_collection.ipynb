{
 "cells": [
  {
   "cell_type": "markdown",
   "metadata": {},
   "source": [
    "# Data Collection and Integration of Meteostat Dataset\n",
    "\n",
    "In this notebook, we will extend our data collection process to include historical weather data from the MeteoStat dataset, supplied via Python library. This will allow us to obtain data dating back to 1990, significantly enhancing the robustness of our predictive models.\n",
    "\n",
    "We will:\n",
    "\n",
    "- Set up Meteostat and install the necessary libraries.\n",
    "- Download data for the variables: `temperature`, `rainfall`, `snowfall`.\n",
    "- Process and save the data in the same format and structure as our existing datasets.\n",
    "- Integrate the new data with our existing data cleaning pipeline.\n"
   ]
  },
  {
   "cell_type": "markdown",
   "metadata": {},
   "source": [
    "### 1. Import libraries"
   ]
  },
  {
   "cell_type": "code",
   "execution_count": 2,
   "metadata": {},
   "outputs": [],
   "source": [
    "import os\n",
    "import pandas as pd\n",
    "import numpy as np\n",
    "from datetime import datetime\n",
    "import time"
   ]
  },
  {
   "cell_type": "markdown",
   "metadata": {},
   "source": [
    "### 2. Import Custom Modules"
   ]
  },
  {
   "cell_type": "code",
   "execution_count": 3,
   "metadata": {},
   "outputs": [
    {
     "name": "stdout",
     "output_type": "stream",
     "text": [
      "Raw data will be saved to: /workspace/SkiSnow/data/raw/cds\n"
     ]
    }
   ],
   "source": [
    "from src.data.fetch_data import (\n",
    "    get_nearest_station,\n",
    "    download_meteostat_data\n",
    ")\n",
    "from src.data.processing import (\n",
    "    process_meteostat_data,\n",
    "    compile_meteostat_data\n",
    ")"
   ]
  },
  {
   "cell_type": "markdown",
   "metadata": {},
   "source": [
    "### 3. Define Data Paths"
   ]
  },
  {
   "cell_type": "code",
   "execution_count": null,
   "metadata": {},
   "outputs": [],
   "source": [
    "# Define the root data directory\n",
    "data_root = '/workspace/SkiSnow/data'\n",
    "\n",
    "# Define subdirectories for raw data\n",
    "raw_data_root = os.path.join(data_root, 'raw', 'cds')\n",
    "\n",
    "# Create the directories if they don't exist\n",
    "os.makedirs(raw_data_root, exist_ok=True)\n",
    "\n",
    "print(f\"Raw data will be saved to: {raw_data_root}\")"
   ]
  },
  {
   "cell_type": "markdown",
   "metadata": {},
   "source": [
    "### 4. Define the List of Resorts and Their Coordinates"
   ]
  },
  {
   "cell_type": "code",
   "execution_count": 4,
   "metadata": {},
   "outputs": [],
   "source": [
    "resorts = {\n",
    "    'austrian_alps/st_anton': {\n",
    "        'latitude': 47.1787,\n",
    "        'longitude': 10.3143,\n",
    "        'months_open': ['12', '01', '02', '03', '04'],\n",
    "    },\n",
    "    'austrian_alps/kitzbuhel': {\n",
    "        'latitude': 47.4967,\n",
    "        'longitude': 12.4429,\n",
    "        'months_open': ['11', '12', '01', '02', '03', '04'],\n",
    "    },\n",
    "    'austrian_alps/solden': {\n",
    "        'latitude': 47.0190,\n",
    "        'longitude': 11.0606,\n",
    "        'months_open': ['10', '11', '12', '01', '02', '03', '04', '05'],\n",
    "    },\n",
    "    'swiss_alps/st_moritz': {\n",
    "        'latitude': 46.5407,\n",
    "        'longitude': 9.8855,\n",
    "        'months_open': ['11', '12', '01', '02', '03', '04'],\n",
    "    },\n",
    "    'swiss_alps/verbier': {\n",
    "        'latitude': 46.1465,\n",
    "        'longitude': 7.2769,\n",
    "        'months_open': ['12', '01', '02', '03', '04'],\n",
    "    },\n",
    "    'italian_alps/cortina_d_ampezzo': {\n",
    "        'latitude': 46.5905,\n",
    "        'longitude': 12.1857,\n",
    "        'months_open': ['12', '01', '02', '03', '04'],\n",
    "    },\n",
    "    'italian_alps/val_gardena': {\n",
    "        'latitude': 46.6219,\n",
    "        'longitude': 11.7673,\n",
    "        'months_open': ['12', '01', '02', '03', '04'],\n",
    "    },\n",
    "    'italian_alps/sestriere': {\n",
    "        'latitude': 45.0055,\n",
    "        'longitude': 6.9335,\n",
    "        'months_open': ['12', '01', '02', '03', '04'],\n",
    "    },\n",
    "    'slovenian_alps/kranjska_gora': {\n",
    "        'latitude': 46.5347,\n",
    "        'longitude': 13.8336,\n",
    "        'months_open': ['12', '01', '02', '03'],\n",
    "    },\n",
    "    'slovenian_alps/mariborsko_pohorje': {\n",
    "        'latitude': 46.5652,\n",
    "        'longitude': 15.6431,\n",
    "        'months_open': ['12', '01', '02', '03'],\n",
    "    },\n",
    "    'slovenian_alps/krvavec': {\n",
    "        'latitude': 46.3471,\n",
    "        'longitude': 14.5875,\n",
    "        'months_open': ['12', '01', '02', '03', '04'],\n",
    "    },\n",
    "}\n"
   ]
  },
  {
   "cell_type": "markdown",
   "metadata": {},
   "source": [
    "### 4. Execute the Data Retrieval Workflow"
   ]
  },
  {
   "cell_type": "code",
   "execution_count": 5,
   "metadata": {},
   "outputs": [],
   "source": [
    "def run_data_retrieval(resorts, start_year, end_year, raw_data_root):\n",
    "    \"\"\"\n",
    "    Orchestrate the data retrieval and processing for all resorts.\n",
    "    \n",
    "    Parameters:\n",
    "    - resorts (dict): Dictionary of resorts with coordinates and open months.\n",
    "    - start_year (int): Starting year for data retrieval.\n",
    "    - end_year (int): Ending year for data retrieval.\n",
    "    - raw_data_root (str): Root directory for raw data.\n",
    "    \n",
    "    Returns:\n",
    "    - None\n",
    "    \"\"\"\n",
    "    for resort_name, resort_info in resorts.items():\n",
    "        latitude = resort_info['latitude']\n",
    "        longitude = resort_info['longitude']\n",
    "        months_open = resort_info['months_open']\n",
    "        \n",
    "        # Define resort-specific raw data directory\n",
    "        resort_raw_dir = os.path.join(raw_data_root, resort_name.replace('/', '_'))\n",
    "        \n",
    "        # Define compiled CSV path within raw_data_root\n",
    "        compiled_csv_path = os.path.join(raw_data_root, f\"{resort_name.replace('/', '_')}_meteostat.csv\")\n",
    "        \n",
    "        # Download data\n",
    "        download_meteostat_data(resort_name, latitude, longitude, start_year, end_year, resort_raw_dir)\n",
    "        \n",
    "        # Optional: Pause to respect any rate limits\n",
    "        time.sleep(1)\n",
    "        \n",
    "        # Compile data\n",
    "        compile_meteostat_data(resort_name, resort_raw_dir, compiled_csv_path)\n",
    "\n",
    "# %%\n",
    "if __name__ == \"__main__\":\n",
    "    # Define temporal range\n",
    "    start_year = 1990\n",
    "    end_year = 2023  # Adjust as needed\n",
    "    \n",
    "    # Run the data retrieval process\n",
    "    run_data_retrieval(resorts, start_year, end_year, raw_data_root)\n"
   ]
  }
 ],
 "metadata": {
  "kernelspec": {
   "display_name": "venv",
   "language": "python",
   "name": "python3"
  },
  "language_info": {
   "codemirror_mode": {
    "name": "ipython",
    "version": 3
   },
   "file_extension": ".py",
   "mimetype": "text/x-python",
   "name": "python",
   "nbconvert_exporter": "python",
   "pygments_lexer": "ipython3",
   "version": "3.12.6"
  }
 },
 "nbformat": 4,
 "nbformat_minor": 2
}
